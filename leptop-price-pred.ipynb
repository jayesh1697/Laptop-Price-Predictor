{
 "cells": [
  {
   "cell_type": "code",
   "execution_count": 279,
   "id": "4e29e90a-fdd4-4c76-bb0d-624f66ba1d58",
   "metadata": {},
   "outputs": [],
   "source": [
    "import pandas as pd\n",
    "import seaborn as sns\n",
    "import numpy as np\n",
    "from sklearn.preprocessing import OneHotEncoder\n",
    "from sklearn.preprocessing import OrdinalEncoder\n",
    "from sklearn.model_selection import train_test_split\n",
    "from sklearn.compose import ColumnTransformer\n",
    "import matplotlib.pyplot as plt\n",
    "import re"
   ]
  },
  {
   "cell_type": "code",
   "execution_count": 280,
   "id": "b9619746-57c2-4d02-8a72-630d9bc57c1e",
   "metadata": {},
   "outputs": [],
   "source": [
    "df = pd.read_csv('/Users/jayeshpatel/Documents/Jupyter Notebook/laptop_price - dataset.csv')"
   ]
  },
  {
   "cell_type": "code",
   "execution_count": 281,
   "id": "10936b9c-c386-4ffe-b54f-08bffa0d3413",
   "metadata": {},
   "outputs": [
    {
     "data": {
      "text/html": [
       "<div>\n",
       "<style scoped>\n",
       "    .dataframe tbody tr th:only-of-type {\n",
       "        vertical-align: middle;\n",
       "    }\n",
       "\n",
       "    .dataframe tbody tr th {\n",
       "        vertical-align: top;\n",
       "    }\n",
       "\n",
       "    .dataframe thead th {\n",
       "        text-align: right;\n",
       "    }\n",
       "</style>\n",
       "<table border=\"1\" class=\"dataframe\">\n",
       "  <thead>\n",
       "    <tr style=\"text-align: right;\">\n",
       "      <th></th>\n",
       "      <th>Company</th>\n",
       "      <th>Product</th>\n",
       "      <th>TypeName</th>\n",
       "      <th>Inches</th>\n",
       "      <th>ScreenResolution</th>\n",
       "      <th>CPU_Company</th>\n",
       "      <th>CPU_Type</th>\n",
       "      <th>CPU_Frequency (GHz)</th>\n",
       "      <th>RAM (GB)</th>\n",
       "      <th>Memory</th>\n",
       "      <th>GPU_Company</th>\n",
       "      <th>GPU_Type</th>\n",
       "      <th>OpSys</th>\n",
       "      <th>Weight (kg)</th>\n",
       "      <th>Price (Euro)</th>\n",
       "    </tr>\n",
       "  </thead>\n",
       "  <tbody>\n",
       "    <tr>\n",
       "      <th>0</th>\n",
       "      <td>Apple</td>\n",
       "      <td>MacBook Pro</td>\n",
       "      <td>Ultrabook</td>\n",
       "      <td>13.3</td>\n",
       "      <td>IPS Panel Retina Display 2560x1600</td>\n",
       "      <td>Intel</td>\n",
       "      <td>Core i5</td>\n",
       "      <td>2.3</td>\n",
       "      <td>8</td>\n",
       "      <td>128GB SSD</td>\n",
       "      <td>Intel</td>\n",
       "      <td>Iris Plus Graphics 640</td>\n",
       "      <td>macOS</td>\n",
       "      <td>1.37</td>\n",
       "      <td>1339.69</td>\n",
       "    </tr>\n",
       "    <tr>\n",
       "      <th>1</th>\n",
       "      <td>Apple</td>\n",
       "      <td>Macbook Air</td>\n",
       "      <td>Ultrabook</td>\n",
       "      <td>13.3</td>\n",
       "      <td>1440x900</td>\n",
       "      <td>Intel</td>\n",
       "      <td>Core i5</td>\n",
       "      <td>1.8</td>\n",
       "      <td>8</td>\n",
       "      <td>128GB Flash Storage</td>\n",
       "      <td>Intel</td>\n",
       "      <td>HD Graphics 6000</td>\n",
       "      <td>macOS</td>\n",
       "      <td>1.34</td>\n",
       "      <td>898.94</td>\n",
       "    </tr>\n",
       "    <tr>\n",
       "      <th>2</th>\n",
       "      <td>HP</td>\n",
       "      <td>250 G6</td>\n",
       "      <td>Notebook</td>\n",
       "      <td>15.6</td>\n",
       "      <td>Full HD 1920x1080</td>\n",
       "      <td>Intel</td>\n",
       "      <td>Core i5 7200U</td>\n",
       "      <td>2.5</td>\n",
       "      <td>8</td>\n",
       "      <td>256GB SSD</td>\n",
       "      <td>Intel</td>\n",
       "      <td>HD Graphics 620</td>\n",
       "      <td>No OS</td>\n",
       "      <td>1.86</td>\n",
       "      <td>575.00</td>\n",
       "    </tr>\n",
       "    <tr>\n",
       "      <th>3</th>\n",
       "      <td>Apple</td>\n",
       "      <td>MacBook Pro</td>\n",
       "      <td>Ultrabook</td>\n",
       "      <td>15.4</td>\n",
       "      <td>IPS Panel Retina Display 2880x1800</td>\n",
       "      <td>Intel</td>\n",
       "      <td>Core i7</td>\n",
       "      <td>2.7</td>\n",
       "      <td>16</td>\n",
       "      <td>512GB SSD</td>\n",
       "      <td>AMD</td>\n",
       "      <td>Radeon Pro 455</td>\n",
       "      <td>macOS</td>\n",
       "      <td>1.83</td>\n",
       "      <td>2537.45</td>\n",
       "    </tr>\n",
       "    <tr>\n",
       "      <th>4</th>\n",
       "      <td>Apple</td>\n",
       "      <td>MacBook Pro</td>\n",
       "      <td>Ultrabook</td>\n",
       "      <td>13.3</td>\n",
       "      <td>IPS Panel Retina Display 2560x1600</td>\n",
       "      <td>Intel</td>\n",
       "      <td>Core i5</td>\n",
       "      <td>3.1</td>\n",
       "      <td>8</td>\n",
       "      <td>256GB SSD</td>\n",
       "      <td>Intel</td>\n",
       "      <td>Iris Plus Graphics 650</td>\n",
       "      <td>macOS</td>\n",
       "      <td>1.37</td>\n",
       "      <td>1803.60</td>\n",
       "    </tr>\n",
       "  </tbody>\n",
       "</table>\n",
       "</div>"
      ],
      "text/plain": [
       "  Company      Product   TypeName  Inches                    ScreenResolution  \\\n",
       "0   Apple  MacBook Pro  Ultrabook    13.3  IPS Panel Retina Display 2560x1600   \n",
       "1   Apple  Macbook Air  Ultrabook    13.3                            1440x900   \n",
       "2      HP       250 G6   Notebook    15.6                   Full HD 1920x1080   \n",
       "3   Apple  MacBook Pro  Ultrabook    15.4  IPS Panel Retina Display 2880x1800   \n",
       "4   Apple  MacBook Pro  Ultrabook    13.3  IPS Panel Retina Display 2560x1600   \n",
       "\n",
       "  CPU_Company       CPU_Type  CPU_Frequency (GHz)  RAM (GB)  \\\n",
       "0       Intel        Core i5                  2.3         8   \n",
       "1       Intel        Core i5                  1.8         8   \n",
       "2       Intel  Core i5 7200U                  2.5         8   \n",
       "3       Intel        Core i7                  2.7        16   \n",
       "4       Intel        Core i5                  3.1         8   \n",
       "\n",
       "                Memory GPU_Company                GPU_Type  OpSys  \\\n",
       "0            128GB SSD       Intel  Iris Plus Graphics 640  macOS   \n",
       "1  128GB Flash Storage       Intel        HD Graphics 6000  macOS   \n",
       "2            256GB SSD       Intel         HD Graphics 620  No OS   \n",
       "3            512GB SSD         AMD          Radeon Pro 455  macOS   \n",
       "4            256GB SSD       Intel  Iris Plus Graphics 650  macOS   \n",
       "\n",
       "   Weight (kg)  Price (Euro)  \n",
       "0         1.37       1339.69  \n",
       "1         1.34        898.94  \n",
       "2         1.86        575.00  \n",
       "3         1.83       2537.45  \n",
       "4         1.37       1803.60  "
      ]
     },
     "execution_count": 281,
     "metadata": {},
     "output_type": "execute_result"
    }
   ],
   "source": [
    "df.head()"
   ]
  },
  {
   "cell_type": "markdown",
   "id": "2c66c631-b5b0-4f02-94ba-614c4cda0f5d",
   "metadata": {
    "jp-MarkdownHeadingCollapsed": true
   },
   "source": [
    "## EDA"
   ]
  },
  {
   "cell_type": "code",
   "execution_count": 282,
   "id": "b6445fea-f5c4-4e7b-bcc6-fe1d8effe411",
   "metadata": {},
   "outputs": [
    {
     "data": {
      "text/plain": [
       "Company                0\n",
       "Product                0\n",
       "TypeName               0\n",
       "Inches                 0\n",
       "ScreenResolution       0\n",
       "CPU_Company            0\n",
       "CPU_Type               0\n",
       "CPU_Frequency (GHz)    0\n",
       "RAM (GB)               0\n",
       "Memory                 0\n",
       "GPU_Company            0\n",
       "GPU_Type               0\n",
       "OpSys                  0\n",
       "Weight (kg)            0\n",
       "Price (Euro)           0\n",
       "dtype: int64"
      ]
     },
     "execution_count": 282,
     "metadata": {},
     "output_type": "execute_result"
    }
   ],
   "source": [
    "df.isnull().sum()"
   ]
  },
  {
   "cell_type": "code",
   "execution_count": 283,
   "id": "b82ba587-e71f-461c-a0cc-f54915e6de29",
   "metadata": {},
   "outputs": [
    {
     "data": {
      "text/plain": [
       "Company                 object\n",
       "Product                 object\n",
       "TypeName                object\n",
       "Inches                 float64\n",
       "ScreenResolution        object\n",
       "CPU_Company             object\n",
       "CPU_Type                object\n",
       "CPU_Frequency (GHz)    float64\n",
       "RAM (GB)                 int64\n",
       "Memory                  object\n",
       "GPU_Company             object\n",
       "GPU_Type                object\n",
       "OpSys                   object\n",
       "Weight (kg)            float64\n",
       "Price (Euro)           float64\n",
       "dtype: object"
      ]
     },
     "execution_count": 283,
     "metadata": {},
     "output_type": "execute_result"
    }
   ],
   "source": [
    "df.dtypes"
   ]
  },
  {
   "cell_type": "code",
   "execution_count": 284,
   "id": "b8a2ec8c-e2d5-407e-a684-13f3d72942c9",
   "metadata": {},
   "outputs": [
    {
     "data": {
      "text/plain": [
       "(1275, 15)"
      ]
     },
     "execution_count": 284,
     "metadata": {},
     "output_type": "execute_result"
    }
   ],
   "source": [
    "df.shape"
   ]
  },
  {
   "cell_type": "code",
   "execution_count": 285,
   "id": "deea2e28-20f9-4d07-b11f-7d974cb58adc",
   "metadata": {},
   "outputs": [
    {
     "data": {
      "text/plain": [
       "0"
      ]
     },
     "execution_count": 285,
     "metadata": {},
     "output_type": "execute_result"
    }
   ],
   "source": [
    "# Is there any Duplicate Values\n",
    "df.duplicated().sum()"
   ]
  },
  {
   "cell_type": "code",
   "execution_count": 286,
   "id": "c0ce0a56-5b7c-40e1-99a8-9222a1480e42",
   "metadata": {},
   "outputs": [
    {
     "data": {
      "text/plain": [
       "Index(['Company', 'Product', 'TypeName', 'Inches', 'ScreenResolution',\n",
       "       'CPU_Company', 'CPU_Type', 'CPU_Frequency (GHz)', 'RAM (GB)', 'Memory',\n",
       "       'GPU_Company', 'GPU_Type', 'OpSys', 'Weight (kg)', 'Price (Euro)'],\n",
       "      dtype='object')"
      ]
     },
     "execution_count": 286,
     "metadata": {},
     "output_type": "execute_result"
    }
   ],
   "source": [
    "df.columns"
   ]
  },
  {
   "cell_type": "code",
   "execution_count": 287,
   "id": "c3711d4c-8adf-441f-8c11-959255700859",
   "metadata": {},
   "outputs": [],
   "source": [
    "df.columns = df.columns.str.strip()"
   ]
  },
  {
   "cell_type": "code",
   "execution_count": 288,
   "id": "5650297f-db6a-4409-8bbb-44a94b098828",
   "metadata": {},
   "outputs": [],
   "source": [
    "df.rename(columns={'Price (Euro)': 'Price'}, inplace=True)"
   ]
  },
  {
   "cell_type": "code",
   "execution_count": 289,
   "id": "f5e2de0d-2b70-49ea-a9b5-5a9c6365baa2",
   "metadata": {},
   "outputs": [
    {
     "data": {
      "text/html": [
       "<div>\n",
       "<style scoped>\n",
       "    .dataframe tbody tr th:only-of-type {\n",
       "        vertical-align: middle;\n",
       "    }\n",
       "\n",
       "    .dataframe tbody tr th {\n",
       "        vertical-align: top;\n",
       "    }\n",
       "\n",
       "    .dataframe thead th {\n",
       "        text-align: right;\n",
       "    }\n",
       "</style>\n",
       "<table border=\"1\" class=\"dataframe\">\n",
       "  <thead>\n",
       "    <tr style=\"text-align: right;\">\n",
       "      <th></th>\n",
       "      <th>Company</th>\n",
       "      <th>Product</th>\n",
       "      <th>TypeName</th>\n",
       "      <th>Inches</th>\n",
       "      <th>ScreenResolution</th>\n",
       "      <th>CPU_Company</th>\n",
       "      <th>CPU_Type</th>\n",
       "      <th>CPU_Frequency (GHz)</th>\n",
       "      <th>RAM (GB)</th>\n",
       "      <th>Memory</th>\n",
       "      <th>GPU_Company</th>\n",
       "      <th>GPU_Type</th>\n",
       "      <th>OpSys</th>\n",
       "      <th>Weight (kg)</th>\n",
       "      <th>Price</th>\n",
       "    </tr>\n",
       "  </thead>\n",
       "  <tbody>\n",
       "    <tr>\n",
       "      <th>0</th>\n",
       "      <td>Apple</td>\n",
       "      <td>MacBook Pro</td>\n",
       "      <td>Ultrabook</td>\n",
       "      <td>13.3</td>\n",
       "      <td>IPS Panel Retina Display 2560x1600</td>\n",
       "      <td>Intel</td>\n",
       "      <td>Core i5</td>\n",
       "      <td>2.3</td>\n",
       "      <td>8</td>\n",
       "      <td>128GB SSD</td>\n",
       "      <td>Intel</td>\n",
       "      <td>Iris Plus Graphics 640</td>\n",
       "      <td>macOS</td>\n",
       "      <td>1.37</td>\n",
       "      <td>1339.69</td>\n",
       "    </tr>\n",
       "    <tr>\n",
       "      <th>1</th>\n",
       "      <td>Apple</td>\n",
       "      <td>Macbook Air</td>\n",
       "      <td>Ultrabook</td>\n",
       "      <td>13.3</td>\n",
       "      <td>1440x900</td>\n",
       "      <td>Intel</td>\n",
       "      <td>Core i5</td>\n",
       "      <td>1.8</td>\n",
       "      <td>8</td>\n",
       "      <td>128GB Flash Storage</td>\n",
       "      <td>Intel</td>\n",
       "      <td>HD Graphics 6000</td>\n",
       "      <td>macOS</td>\n",
       "      <td>1.34</td>\n",
       "      <td>898.94</td>\n",
       "    </tr>\n",
       "    <tr>\n",
       "      <th>2</th>\n",
       "      <td>HP</td>\n",
       "      <td>250 G6</td>\n",
       "      <td>Notebook</td>\n",
       "      <td>15.6</td>\n",
       "      <td>Full HD 1920x1080</td>\n",
       "      <td>Intel</td>\n",
       "      <td>Core i5 7200U</td>\n",
       "      <td>2.5</td>\n",
       "      <td>8</td>\n",
       "      <td>256GB SSD</td>\n",
       "      <td>Intel</td>\n",
       "      <td>HD Graphics 620</td>\n",
       "      <td>No OS</td>\n",
       "      <td>1.86</td>\n",
       "      <td>575.00</td>\n",
       "    </tr>\n",
       "    <tr>\n",
       "      <th>3</th>\n",
       "      <td>Apple</td>\n",
       "      <td>MacBook Pro</td>\n",
       "      <td>Ultrabook</td>\n",
       "      <td>15.4</td>\n",
       "      <td>IPS Panel Retina Display 2880x1800</td>\n",
       "      <td>Intel</td>\n",
       "      <td>Core i7</td>\n",
       "      <td>2.7</td>\n",
       "      <td>16</td>\n",
       "      <td>512GB SSD</td>\n",
       "      <td>AMD</td>\n",
       "      <td>Radeon Pro 455</td>\n",
       "      <td>macOS</td>\n",
       "      <td>1.83</td>\n",
       "      <td>2537.45</td>\n",
       "    </tr>\n",
       "    <tr>\n",
       "      <th>4</th>\n",
       "      <td>Apple</td>\n",
       "      <td>MacBook Pro</td>\n",
       "      <td>Ultrabook</td>\n",
       "      <td>13.3</td>\n",
       "      <td>IPS Panel Retina Display 2560x1600</td>\n",
       "      <td>Intel</td>\n",
       "      <td>Core i5</td>\n",
       "      <td>3.1</td>\n",
       "      <td>8</td>\n",
       "      <td>256GB SSD</td>\n",
       "      <td>Intel</td>\n",
       "      <td>Iris Plus Graphics 650</td>\n",
       "      <td>macOS</td>\n",
       "      <td>1.37</td>\n",
       "      <td>1803.60</td>\n",
       "    </tr>\n",
       "  </tbody>\n",
       "</table>\n",
       "</div>"
      ],
      "text/plain": [
       "  Company      Product   TypeName  Inches                    ScreenResolution  \\\n",
       "0   Apple  MacBook Pro  Ultrabook    13.3  IPS Panel Retina Display 2560x1600   \n",
       "1   Apple  Macbook Air  Ultrabook    13.3                            1440x900   \n",
       "2      HP       250 G6   Notebook    15.6                   Full HD 1920x1080   \n",
       "3   Apple  MacBook Pro  Ultrabook    15.4  IPS Panel Retina Display 2880x1800   \n",
       "4   Apple  MacBook Pro  Ultrabook    13.3  IPS Panel Retina Display 2560x1600   \n",
       "\n",
       "  CPU_Company       CPU_Type  CPU_Frequency (GHz)  RAM (GB)  \\\n",
       "0       Intel        Core i5                  2.3         8   \n",
       "1       Intel        Core i5                  1.8         8   \n",
       "2       Intel  Core i5 7200U                  2.5         8   \n",
       "3       Intel        Core i7                  2.7        16   \n",
       "4       Intel        Core i5                  3.1         8   \n",
       "\n",
       "                Memory GPU_Company                GPU_Type  OpSys  \\\n",
       "0            128GB SSD       Intel  Iris Plus Graphics 640  macOS   \n",
       "1  128GB Flash Storage       Intel        HD Graphics 6000  macOS   \n",
       "2            256GB SSD       Intel         HD Graphics 620  No OS   \n",
       "3            512GB SSD         AMD          Radeon Pro 455  macOS   \n",
       "4            256GB SSD       Intel  Iris Plus Graphics 650  macOS   \n",
       "\n",
       "   Weight (kg)    Price  \n",
       "0         1.37  1339.69  \n",
       "1         1.34   898.94  \n",
       "2         1.86   575.00  \n",
       "3         1.83  2537.45  \n",
       "4         1.37  1803.60  "
      ]
     },
     "execution_count": 289,
     "metadata": {},
     "output_type": "execute_result"
    }
   ],
   "source": [
    "df.head()"
   ]
  },
  {
   "cell_type": "code",
   "execution_count": 12,
   "id": "5f2eceb3-91a1-4f17-9704-5e3e452a2879",
   "metadata": {},
   "outputs": [],
   "source": [
    "# df.drop([''])"
   ]
  },
  {
   "cell_type": "code",
   "execution_count": 89,
   "id": "2250062f-dbf7-4bc4-8692-30d7d4f01a38",
   "metadata": {},
   "outputs": [
    {
     "name": "stdout",
     "output_type": "stream",
     "text": [
      "['Apple' 'HP' 'Acer' 'Asus' 'Dell' 'Lenovo' 'Other' 'MSI' 'Toshiba'\n",
      " 'Samsung']\n"
     ]
    }
   ],
   "source": [
    "# # Get the count of each company\n",
    "# company_counts = df['Company'].value_counts()\n",
    "\n",
    "# # Replace companies that appear fewer than 7 times with 'Other'\n",
    "# df['Company'] = df['Company'].apply(lambda x: 'Other' if company_counts[x] < 8 else x)\n",
    "\n",
    "# # Check the result\n",
    "# print(df['Company'].unique())  # To see unique companies after replacement\n"
   ]
  },
  {
   "cell_type": "code",
   "execution_count": 290,
   "id": "7d8f40c3-55c5-4f6d-a917-675c50f71c56",
   "metadata": {},
   "outputs": [
    {
     "name": "stderr",
     "output_type": "stream",
     "text": [
      "/Users/jayeshpatel/anaconda3/lib/python3.11/site-packages/seaborn/_oldcore.py:1119: FutureWarning: use_inf_as_na option is deprecated and will be removed in a future version. Convert inf values to NaN before operating instead.\n",
      "  with pd.option_context('mode.use_inf_as_na', True):\n"
     ]
    },
    {
     "data": {
      "text/plain": [
       "<seaborn.axisgrid.FacetGrid at 0x312035fd0>"
      ]
     },
     "execution_count": 290,
     "metadata": {},
     "output_type": "execute_result"
    },
    {
     "data": {
      "image/png": "[encoded data removed]",
      "text/plain": [
       "<Figure size 500x500 with 1 Axes>"
      ]
     },
     "metadata": {},
     "output_type": "display_data"
    }
   ],
   "source": [
    "sns.displot(np.log(df['Price']))"
   ]
  },
  {
   "cell_type": "markdown",
   "id": "9a821c08-b502-496b-a232-28810dd15cb4",
   "metadata": {
    "jp-MarkdownHeadingCollapsed": true
   },
   "source": [
    "## Company"
   ]
  },
  {
   "cell_type": "code",
   "execution_count": 303,
   "id": "677f3cf7-f660-448e-baef-11b6ec897613",
   "metadata": {},
   "outputs": [
    {
     "data": {
      "text/plain": [
       "Company\n",
       "Dell         291\n",
       "Lenovo       289\n",
       "HP           268\n",
       "Asus         152\n",
       "Acer         101\n",
       "MSI           54\n",
       "Toshiba       48\n",
       "Apple         21\n",
       "Samsung        8\n",
       "Razer          7\n",
       "Mediacom       7\n",
       "Microsoft      6\n",
       "Xiaomi         4\n",
       "Vero           4\n",
       "Chuwi          3\n",
       "Google         3\n",
       "Fujitsu        3\n",
       "LG             3\n",
       "Huawei         2\n",
       "Name: count, dtype: int64"
      ]
     },
     "execution_count": 303,
     "metadata": {},
     "output_type": "execute_result"
    }
   ],
   "source": [
    "df['Company'].value_counts()"
   ]
  },
  {
   "cell_type": "markdown",
   "id": "addce57b-4651-44a0-b843-85f8923d2624",
   "metadata": {
    "jp-MarkdownHeadingCollapsed": true
   },
   "source": [
    "## Product"
   ]
  },
  {
   "cell_type": "code",
   "execution_count": 304,
   "id": "a8704bee-e0ef-4005-a5ed-9a4ac6107f24",
   "metadata": {},
   "outputs": [],
   "source": [
    "df.drop(['Product'],axis=1,inplace=True)"
   ]
  },
  {
   "cell_type": "markdown",
   "id": "f13595ca-5d13-4c25-b4ec-e892362cf111",
   "metadata": {
    "jp-MarkdownHeadingCollapsed": true
   },
   "source": [
    "## TypeName"
   ]
  },
  {
   "cell_type": "code",
   "execution_count": 305,
   "id": "8755ce21-0b2f-4f22-b7f1-e62056600aca",
   "metadata": {},
   "outputs": [
    {
     "data": {
      "text/plain": [
       "TypeName\n",
       "Notebook              707\n",
       "Gaming                205\n",
       "Ultrabook             194\n",
       "2 in 1 Convertible    116\n",
       "Workstation            29\n",
       "Netbook                23\n",
       "Name: count, dtype: int64"
      ]
     },
     "execution_count": 305,
     "metadata": {},
     "output_type": "execute_result"
    }
   ],
   "source": [
    "df['TypeName'].value_counts()"
   ]
  },
  {
   "cell_type": "code",
   "execution_count": 306,
   "id": "72560f13-dcb5-483c-a90c-cb82a444995c",
   "metadata": {},
   "outputs": [
    {
     "data": {
      "text/html": [
       "<div>\n",
       "<style scoped>\n",
       "    .dataframe tbody tr th:only-of-type {\n",
       "        vertical-align: middle;\n",
       "    }\n",
       "\n",
       "    .dataframe tbody tr th {\n",
       "        vertical-align: top;\n",
       "    }\n",
       "\n",
       "    .dataframe thead th {\n",
       "        text-align: right;\n",
       "    }\n",
       "</style>\n",
       "<table border=\"1\" class=\"dataframe\">\n",
       "  <thead>\n",
       "    <tr style=\"text-align: right;\">\n",
       "      <th></th>\n",
       "      <th>Company</th>\n",
       "      <th>TypeName</th>\n",
       "      <th>Inches</th>\n",
       "      <th>ScreenResolution</th>\n",
       "      <th>CPU_Frequency (GHz)</th>\n",
       "      <th>RAM (GB)</th>\n",
       "      <th>Memory</th>\n",
       "      <th>GPU_Company</th>\n",
       "      <th>GPU_Type</th>\n",
       "      <th>OpSys</th>\n",
       "      <th>Weight (kg)</th>\n",
       "      <th>Price</th>\n",
       "      <th>cpu</th>\n",
       "    </tr>\n",
       "  </thead>\n",
       "  <tbody>\n",
       "    <tr>\n",
       "      <th>1086</th>\n",
       "      <td>HP</td>\n",
       "      <td>Workstation</td>\n",
       "      <td>15.6</td>\n",
       "      <td>Full HD 1920x1080</td>\n",
       "      <td>2.5</td>\n",
       "      <td>8</td>\n",
       "      <td>256GB SSD</td>\n",
       "      <td>AMD</td>\n",
       "      <td>FirePro W4190M</td>\n",
       "      <td>Windows 7</td>\n",
       "      <td>1.9</td>\n",
       "      <td>1495.00</td>\n",
       "      <td>Core i7</td>\n",
       "    </tr>\n",
       "    <tr>\n",
       "      <th>314</th>\n",
       "      <td>Asus</td>\n",
       "      <td>2 in 1 Convertible</td>\n",
       "      <td>11.6</td>\n",
       "      <td>Touchscreen 1366x768</td>\n",
       "      <td>1.1</td>\n",
       "      <td>2</td>\n",
       "      <td>32GB Flash Storage</td>\n",
       "      <td>Intel</td>\n",
       "      <td>HD Graphics 500</td>\n",
       "      <td>Windows 10</td>\n",
       "      <td>1.1</td>\n",
       "      <td>275.00</td>\n",
       "      <td>other intel</td>\n",
       "    </tr>\n",
       "    <tr>\n",
       "      <th>543</th>\n",
       "      <td>Acer</td>\n",
       "      <td>Gaming</td>\n",
       "      <td>15.6</td>\n",
       "      <td>Full HD 1920x1080</td>\n",
       "      <td>2.5</td>\n",
       "      <td>8</td>\n",
       "      <td>1TB HDD</td>\n",
       "      <td>Nvidia</td>\n",
       "      <td>GeForce GTX 1050</td>\n",
       "      <td>Linux</td>\n",
       "      <td>2.4</td>\n",
       "      <td>798.00</td>\n",
       "      <td>Core i5</td>\n",
       "    </tr>\n",
       "    <tr>\n",
       "      <th>899</th>\n",
       "      <td>Dell</td>\n",
       "      <td>Notebook</td>\n",
       "      <td>15.6</td>\n",
       "      <td>Full HD 1920x1080</td>\n",
       "      <td>2.6</td>\n",
       "      <td>8</td>\n",
       "      <td>500GB HDD</td>\n",
       "      <td>Intel</td>\n",
       "      <td>HD Graphics 620</td>\n",
       "      <td>Windows 10</td>\n",
       "      <td>1.9</td>\n",
       "      <td>935.00</td>\n",
       "      <td>Core i5</td>\n",
       "    </tr>\n",
       "    <tr>\n",
       "      <th>628</th>\n",
       "      <td>Asus</td>\n",
       "      <td>2 in 1 Convertible</td>\n",
       "      <td>13.3</td>\n",
       "      <td>Full HD / Touchscreen 1920x1080</td>\n",
       "      <td>2.5</td>\n",
       "      <td>6</td>\n",
       "      <td>1TB HDD</td>\n",
       "      <td>Intel</td>\n",
       "      <td>HD Graphics 620</td>\n",
       "      <td>Windows 10</td>\n",
       "      <td>1.5</td>\n",
       "      <td>639.01</td>\n",
       "      <td>Core i5</td>\n",
       "    </tr>\n",
       "  </tbody>\n",
       "</table>\n",
       "</div>"
      ],
      "text/plain": [
       "     Company            TypeName  Inches                 ScreenResolution  \\\n",
       "1086      HP         Workstation    15.6                Full HD 1920x1080   \n",
       "314     Asus  2 in 1 Convertible    11.6             Touchscreen 1366x768   \n",
       "543     Acer              Gaming    15.6                Full HD 1920x1080   \n",
       "899     Dell            Notebook    15.6                Full HD 1920x1080   \n",
       "628     Asus  2 in 1 Convertible    13.3  Full HD / Touchscreen 1920x1080   \n",
       "\n",
       "      CPU_Frequency (GHz)  RAM (GB)              Memory GPU_Company  \\\n",
       "1086                  2.5         8           256GB SSD         AMD   \n",
       "314                   1.1         2  32GB Flash Storage       Intel   \n",
       "543                   2.5         8             1TB HDD      Nvidia   \n",
       "899                   2.6         8           500GB HDD       Intel   \n",
       "628                   2.5         6             1TB HDD       Intel   \n",
       "\n",
       "              GPU_Type       OpSys  Weight (kg)    Price          cpu  \n",
       "1086    FirePro W4190M   Windows 7          1.9  1495.00      Core i7  \n",
       "314    HD Graphics 500  Windows 10          1.1   275.00  other intel  \n",
       "543   GeForce GTX 1050       Linux          2.4   798.00      Core i5  \n",
       "899    HD Graphics 620  Windows 10          1.9   935.00      Core i5  \n",
       "628    HD Graphics 620  Windows 10          1.5   639.01      Core i5  "
      ]
     },
     "execution_count": 306,
     "metadata": {},
     "output_type": "execute_result"
    }
   ],
   "source": [
    "df.sample(5)"
   ]
  },
  {
   "cell_type": "markdown",
   "id": "f9863f3c-db49-4eeb-85cb-932c4b5a196b",
   "metadata": {
    "jp-MarkdownHeadingCollapsed": true
   },
   "source": [
    "## Inches"
   ]
  },
  {
   "cell_type": "markdown",
   "id": "23d5f550-9dbd-4ff3-ac89-a7664469d5a1",
   "metadata": {
    "jp-MarkdownHeadingCollapsed": true
   },
   "source": [
    "## ScreenResolution"
   ]
  },
  {
   "cell_type": "code",
   "execution_count": 307,
   "id": "3d6f9df6-72c5-4c5f-9078-8adb04d8ad12",
   "metadata": {},
   "outputs": [],
   "source": [
    "df['Display_name'] = df['ScreenResolution'].str.extract(r'([A-Za-z\\s]+)')\n",
    "df['Resolution'] = df['ScreenResolution'].str.extract(r'(\\d+x\\d+)')"
   ]
  },
  {
   "cell_type": "code",
   "execution_count": 308,
   "id": "44f0b0c5-082e-44a7-8d8a-431f65f90c09",
   "metadata": {},
   "outputs": [
    {
     "data": {
      "text/plain": [
       "Resolution\n",
       "1920x1080    833\n",
       "1366x768     290\n",
       "3840x2160     43\n",
       "3200x1800     25\n",
       "2560x1440     23\n",
       "1600x900      23\n",
       "2560x1600      6\n",
       "2304x1440      6\n",
       "2256x1504      6\n",
       "1920x1200      5\n",
       "1440x900       4\n",
       "2880x1800      4\n",
       "2400x1600      3\n",
       "2160x1440      2\n",
       "2736x1824      1\n",
       "Name: count, dtype: int64"
      ]
     },
     "execution_count": 308,
     "metadata": {},
     "output_type": "execute_result"
    }
   ],
   "source": [
    "df['Resolution'].value_counts()"
   ]
  },
  {
   "cell_type": "code",
   "execution_count": 309,
   "id": "eda76a0d-8f22-4101-94f4-7b10910da10e",
   "metadata": {},
   "outputs": [],
   "source": [
    "# Split the 'Resolution' column into two new columns: 'Width' and 'Height'\n",
    "df[['x_res', 'y_res']] = df['Resolution'].str.split('x', expand=True)\n",
    "\n",
    "# Convert the columns to integers (optional, if needed for calculations)\n",
    "df['x_res'] = df['x_res'].astype(int)\n",
    "df['y_res'] = df['y_res'].astype(int)"
   ]
  },
  {
   "cell_type": "code",
   "execution_count": 120,
   "id": "36ccd1b7-df05-43e3-8fc3-e06fc26f6009",
   "metadata": {},
   "outputs": [],
   "source": [
    "# df.drop(['Resolution'],axis=1,inplace=True)"
   ]
  },
  {
   "cell_type": "code",
   "execution_count": 121,
   "id": "58598aff-0868-4c9d-98bd-9037bfc3627e",
   "metadata": {},
   "outputs": [],
   "source": [
    "# df.drop(['R_Width','R_Height','Resolution'],axis=1)"
   ]
  },
  {
   "cell_type": "code",
   "execution_count": 310,
   "id": "84e9ba33-ad92-42f4-8bbf-c49a78a6af74",
   "metadata": {},
   "outputs": [
    {
     "data": {
      "text/plain": [
       "Display_name\n",
       "Full HD                      552\n",
       "x                            296\n",
       "IPS Panel Full HD            282\n",
       "Touchscreen                   35\n",
       "IPS Panel                     34\n",
       "Quad HD                       18\n",
       "IPS Panel Retina Display      17\n",
       "K Ultra HD                    17\n",
       "IPS Panel Touchscreen         14\n",
       "IPS Panel Quad HD              9\n",
       "Name: count, dtype: int64"
      ]
     },
     "execution_count": 310,
     "metadata": {},
     "output_type": "execute_result"
    }
   ],
   "source": [
    "df['Display_name'].value_counts()"
   ]
  },
  {
   "cell_type": "code",
   "execution_count": 311,
   "id": "bde2f5fa-efb4-4118-bb88-7d6f4a52b746",
   "metadata": {},
   "outputs": [],
   "source": [
    "df['ips_pannel'] = df['Display_name'].apply(lambda x : 1 if 'IPS' in x else 0)"
   ]
  },
  {
   "cell_type": "code",
   "execution_count": 312,
   "id": "0a33d729-753a-47f9-8141-7fc00d4c30ef",
   "metadata": {},
   "outputs": [
    {
     "data": {
      "text/plain": [
       "<Axes: xlabel='ips_pannel', ylabel='Price'>"
      ]
     },
     "execution_count": 312,
     "metadata": {},
     "output_type": "execute_result"
    },
    {
     "data": {
      "image/png": "[encoded data removed]",
      "text/plain": [
       "<Figure size 640x480 with 1 Axes>"
      ]
     },
     "metadata": {},
     "output_type": "display_data"
    }
   ],
   "source": [
    "sns.barplot(x=df['ips_pannel'],y=df['Price'])"
   ]
  },
  {
   "cell_type": "code",
   "execution_count": 313,
   "id": "bf4d81bd-f981-415a-a99e-13ff2277e429",
   "metadata": {},
   "outputs": [],
   "source": [
    "# Find PPI\n",
    "df['ppi'] = ((df['x_res']**2) + (df['y_res']**2))**0.5/df['Inches'].astype('float')"
   ]
  },
  {
   "cell_type": "code",
   "execution_count": 314,
   "id": "83b0c2b8-97b3-42ab-b117-051f0005b866",
   "metadata": {},
   "outputs": [],
   "source": [
    "df.drop(['Display_name','x_res','y_res','Inches','Resolution'],inplace=True,axis=1)"
   ]
  },
  {
   "cell_type": "code",
   "execution_count": 315,
   "id": "33d07ff3-2984-4a3b-a41b-e8839d56f70a",
   "metadata": {},
   "outputs": [],
   "source": [
    "df.drop(['ScreenResolution'],inplace=True,axis=1)"
   ]
  },
  {
   "cell_type": "code",
   "execution_count": 316,
   "id": "ab23f839-e1ba-4c1f-9b0b-337f70814f34",
   "metadata": {},
   "outputs": [
    {
     "data": {
      "text/html": [
       "<div>\n",
       "<style scoped>\n",
       "    .dataframe tbody tr th:only-of-type {\n",
       "        vertical-align: middle;\n",
       "    }\n",
       "\n",
       "    .dataframe tbody tr th {\n",
       "        vertical-align: top;\n",
       "    }\n",
       "\n",
       "    .dataframe thead th {\n",
       "        text-align: right;\n",
       "    }\n",
       "</style>\n",
       "<table border=\"1\" class=\"dataframe\">\n",
       "  <thead>\n",
       "    <tr style=\"text-align: right;\">\n",
       "      <th></th>\n",
       "      <th>Company</th>\n",
       "      <th>TypeName</th>\n",
       "      <th>CPU_Frequency (GHz)</th>\n",
       "      <th>RAM (GB)</th>\n",
       "      <th>Memory</th>\n",
       "      <th>GPU_Company</th>\n",
       "      <th>GPU_Type</th>\n",
       "      <th>OpSys</th>\n",
       "      <th>Weight (kg)</th>\n",
       "      <th>Price</th>\n",
       "      <th>cpu</th>\n",
       "      <th>ips_pannel</th>\n",
       "      <th>ppi</th>\n",
       "    </tr>\n",
       "  </thead>\n",
       "  <tbody>\n",
       "    <tr>\n",
       "      <th>275</th>\n",
       "      <td>Dell</td>\n",
       "      <td>Notebook</td>\n",
       "      <td>2.7</td>\n",
       "      <td>12</td>\n",
       "      <td>1TB HDD</td>\n",
       "      <td>Intel</td>\n",
       "      <td>HD Graphics 620</td>\n",
       "      <td>Windows 10</td>\n",
       "      <td>2.30</td>\n",
       "      <td>713.07</td>\n",
       "      <td>Core i7</td>\n",
       "      <td>0</td>\n",
       "      <td>100.454670</td>\n",
       "    </tr>\n",
       "    <tr>\n",
       "      <th>841</th>\n",
       "      <td>Dell</td>\n",
       "      <td>Gaming</td>\n",
       "      <td>2.8</td>\n",
       "      <td>32</td>\n",
       "      <td>512GB SSD +  1TB HDD</td>\n",
       "      <td>Nvidia</td>\n",
       "      <td>GeForce GTX 1070</td>\n",
       "      <td>Windows 10</td>\n",
       "      <td>4.42</td>\n",
       "      <td>3072.89</td>\n",
       "      <td>Core i7</td>\n",
       "      <td>1</td>\n",
       "      <td>127.335675</td>\n",
       "    </tr>\n",
       "    <tr>\n",
       "      <th>114</th>\n",
       "      <td>Dell</td>\n",
       "      <td>Ultrabook</td>\n",
       "      <td>1.6</td>\n",
       "      <td>8</td>\n",
       "      <td>256GB SSD</td>\n",
       "      <td>Intel</td>\n",
       "      <td>UHD Graphics 620</td>\n",
       "      <td>Windows 10</td>\n",
       "      <td>1.21</td>\n",
       "      <td>1629.00</td>\n",
       "      <td>Core i5</td>\n",
       "      <td>1</td>\n",
       "      <td>165.632118</td>\n",
       "    </tr>\n",
       "    <tr>\n",
       "      <th>231</th>\n",
       "      <td>HP</td>\n",
       "      <td>Notebook</td>\n",
       "      <td>1.5</td>\n",
       "      <td>4</td>\n",
       "      <td>500GB HDD</td>\n",
       "      <td>AMD</td>\n",
       "      <td>Radeon R2</td>\n",
       "      <td>Windows 10</td>\n",
       "      <td>2.10</td>\n",
       "      <td>330.00</td>\n",
       "      <td>AMD</td>\n",
       "      <td>0</td>\n",
       "      <td>100.454670</td>\n",
       "    </tr>\n",
       "    <tr>\n",
       "      <th>804</th>\n",
       "      <td>Dell</td>\n",
       "      <td>Netbook</td>\n",
       "      <td>1.1</td>\n",
       "      <td>4</td>\n",
       "      <td>128GB SSD</td>\n",
       "      <td>Intel</td>\n",
       "      <td>HD Graphics 505</td>\n",
       "      <td>Windows 10</td>\n",
       "      <td>1.63</td>\n",
       "      <td>744.00</td>\n",
       "      <td>other intel</td>\n",
       "      <td>0</td>\n",
       "      <td>135.094211</td>\n",
       "    </tr>\n",
       "  </tbody>\n",
       "</table>\n",
       "</div>"
      ],
      "text/plain": [
       "    Company   TypeName  CPU_Frequency (GHz)  RAM (GB)                Memory  \\\n",
       "275    Dell   Notebook                  2.7        12               1TB HDD   \n",
       "841    Dell     Gaming                  2.8        32  512GB SSD +  1TB HDD   \n",
       "114    Dell  Ultrabook                  1.6         8             256GB SSD   \n",
       "231      HP   Notebook                  1.5         4             500GB HDD   \n",
       "804    Dell    Netbook                  1.1         4             128GB SSD   \n",
       "\n",
       "    GPU_Company          GPU_Type       OpSys  Weight (kg)    Price  \\\n",
       "275       Intel   HD Graphics 620  Windows 10         2.30   713.07   \n",
       "841      Nvidia  GeForce GTX 1070  Windows 10         4.42  3072.89   \n",
       "114       Intel  UHD Graphics 620  Windows 10         1.21  1629.00   \n",
       "231         AMD         Radeon R2  Windows 10         2.10   330.00   \n",
       "804       Intel   HD Graphics 505  Windows 10         1.63   744.00   \n",
       "\n",
       "             cpu  ips_pannel         ppi  \n",
       "275      Core i7           0  100.454670  \n",
       "841      Core i7           1  127.335675  \n",
       "114      Core i5           1  165.632118  \n",
       "231          AMD           0  100.454670  \n",
       "804  other intel           0  135.094211  "
      ]
     },
     "execution_count": 316,
     "metadata": {},
     "output_type": "execute_result"
    }
   ],
   "source": [
    "df.sample(5)"
   ]
  },
  {
   "cell_type": "markdown",
   "id": "bd54c117-f770-4818-b904-349c4b9b1375",
   "metadata": {
    "jp-MarkdownHeadingCollapsed": true
   },
   "source": [
    "## CPU_Company"
   ]
  },
  {
   "cell_type": "code",
   "execution_count": 317,
   "id": "4033423a-c5db-40ae-9a9e-e1a1572ed212",
   "metadata": {},
   "outputs": [],
   "source": [
    "# df['CPU_Company'].value_counts()"
   ]
  },
  {
   "cell_type": "markdown",
   "id": "3d418c10-985e-42aa-ac47-539f9affe987",
   "metadata": {
    "jp-MarkdownHeadingCollapsed": true
   },
   "source": [
    "## CPU_Type"
   ]
  },
  {
   "cell_type": "code",
   "execution_count": 39,
   "id": "0a04b576-9df2-4e87-8f66-f08a98cd02c1",
   "metadata": {},
   "outputs": [],
   "source": [
    "# # Get the value counts for 'CPU_Type'\n",
    "# value_counts = df['CPU_Type'].value_counts()\n",
    "\n",
    "# # Filter the DataFrame to include only CPU_Type values with counts less than 5\n",
    "# filtered_df = df[df['CPU_Type'].isin(value_counts[value_counts < 5].index)]\n",
    "# filtered_df\n"
   ]
  },
  {
   "cell_type": "code",
   "execution_count": 291,
   "id": "136923a1-ff29-4523-9ffe-90209cd711ed",
   "metadata": {},
   "outputs": [],
   "source": [
    "# df['CPU_Type'].str.replace('-',' ')"
   ]
  },
  {
   "cell_type": "code",
   "execution_count": 133,
   "id": "049cb73d-4eba-4c84-8042-fb2634361baf",
   "metadata": {},
   "outputs": [],
   "source": [
    "# d.to_csv('/Users/jayeshpatel/Documents/Jupyter Notebook/laptop_price - dataset_new.csv')"
   ]
  },
  {
   "cell_type": "code",
   "execution_count": 292,
   "id": "7e62cde8-2396-4a87-aadb-eb9f7fd7af6b",
   "metadata": {},
   "outputs": [],
   "source": [
    "# df['CPU_Type'].apply(lambda x: x.split())"
   ]
  },
  {
   "cell_type": "code",
   "execution_count": 293,
   "id": "b72a824f-5400-44d6-b9b2-0e4527b46ec3",
   "metadata": {},
   "outputs": [],
   "source": [
    "df[['Processor_Type', 'Model_Number']] = df['CPU_Type'].str.extract(r'(.+)\\s+(\\w+\\s?\\d+[A-Za-z]?)')"
   ]
  },
  {
   "cell_type": "code",
   "execution_count": 294,
   "id": "aac9e0cb-6a63-4a8a-92f0-fcb160a54826",
   "metadata": {},
   "outputs": [
    {
     "data": {
      "text/plain": [
       "Processor_Type\n",
       "Core i7              511\n",
       "Core i5              411\n",
       "Core i3              134\n",
       "Celeron Dual Core     70\n",
       "Pentium Quad Core     27\n",
       "Core                  16\n",
       "A9-Series             15\n",
       "Atom                  13\n",
       "Core M                13\n",
       "A6-Series             11\n",
       "E-Series               9\n",
       "A12-Series             8\n",
       "Celeron Quad Core      8\n",
       "A10-Series             6\n",
       "Ryzen                  4\n",
       "A8-Series              4\n",
       "Pentium Dual Core      3\n",
       "FX                     2\n",
       "Xeon E3-1505M          2\n",
       "Xeon E3-1535M          2\n",
       "A4-Series              1\n",
       "Cortex                 1\n",
       "Name: count, dtype: int64"
      ]
     },
     "execution_count": 294,
     "metadata": {},
     "output_type": "execute_result"
    }
   ],
   "source": [
    "df['Processor_Type'].value_counts()"
   ]
  },
  {
   "cell_type": "code",
   "execution_count": 295,
   "id": "79baf5a6-3191-48b5-af4a-2a3f663fdf8e",
   "metadata": {},
   "outputs": [],
   "source": [
    "def processer_spliter(i):\n",
    "    if i == 'Core i7' or i == 'Core i5' or i == 'Core i3':\n",
    "        return i\n",
    "    elif i == 'Celeron Dual Core' or i == 'Celeron Quad Core' or i == 'Pentium Quad Core' or i == '' or i == 'Atom' or i == 'Core M' or i == 'Pentium Dual Core' or i == 'Xeon E3-1505M' or i == 'Xeon E3-1535M':\n",
    "        return 'other intel'\n",
    "    else:\n",
    "        return 'AMD'\n",
    "        "
   ]
  },
  {
   "cell_type": "code",
   "execution_count": 296,
   "id": "3cf419de-8cb8-46b7-a734-75fd604cdb1a",
   "metadata": {},
   "outputs": [],
   "source": [
    "df = df[df['CPU_Company']!='Samsung']"
   ]
  },
  {
   "cell_type": "code",
   "execution_count": 297,
   "id": "6632bd06-6906-43e2-8e49-b6018c322539",
   "metadata": {},
   "outputs": [],
   "source": [
    "df['Processor_Type'] = df['Processor_Type'].str.strip()"
   ]
  },
  {
   "cell_type": "code",
   "execution_count": 298,
   "id": "fa228365-f652-4545-8a31-57242cf5a87f",
   "metadata": {},
   "outputs": [],
   "source": [
    "df['cpu'] =df['Processor_Type'].apply(processer_spliter)"
   ]
  },
  {
   "cell_type": "code",
   "execution_count": 299,
   "id": "1e693f15-d42a-4216-bc59-fde94dd899a4",
   "metadata": {},
   "outputs": [
    {
     "data": {
      "text/plain": [
       "<Axes: xlabel='cpu'>"
      ]
     },
     "execution_count": 299,
     "metadata": {},
     "output_type": "execute_result"
    },
    {
     "data": {
      "image/png": "[encoded data removed]",
      "text/plain": [
       "<Figure size 640x480 with 1 Axes>"
      ]
     },
     "metadata": {},
     "output_type": "display_data"
    }
   ],
   "source": [
    "df['cpu'].value_counts().plot(kind='bar')"
   ]
  },
  {
   "cell_type": "code",
   "execution_count": 300,
   "id": "2371680b-510f-4482-91b0-779e46a23908",
   "metadata": {},
   "outputs": [
    {
     "data": {
      "image/png": "[encoded data removed]",
      "text/plain": [
       "<Figure size 640x480 with 1 Axes>"
      ]
     },
     "metadata": {},
     "output_type": "display_data"
    }
   ],
   "source": [
    "sns.barplot(x=df['cpu'],y=df['Price'])\n",
    "plt.xticks(rotation='vertical')\n",
    "plt.show()"
   ]
  },
  {
   "cell_type": "code",
   "execution_count": 301,
   "id": "c1a4cbf2-e6f5-49a2-911a-955f27073960",
   "metadata": {},
   "outputs": [],
   "source": [
    "df.drop(['CPU_Company','CPU_Type','Processor_Type','Model_Number'],inplace=True,axis=1)"
   ]
  },
  {
   "cell_type": "code",
   "execution_count": 318,
   "id": "8472c136-9292-4a86-8e25-71505d6745c7",
   "metadata": {},
   "outputs": [
    {
     "data": {
      "text/html": [
       "<div>\n",
       "<style scoped>\n",
       "    .dataframe tbody tr th:only-of-type {\n",
       "        vertical-align: middle;\n",
       "    }\n",
       "\n",
       "    .dataframe tbody tr th {\n",
       "        vertical-align: top;\n",
       "    }\n",
       "\n",
       "    .dataframe thead th {\n",
       "        text-align: right;\n",
       "    }\n",
       "</style>\n",
       "<table border=\"1\" class=\"dataframe\">\n",
       "  <thead>\n",
       "    <tr style=\"text-align: right;\">\n",
       "      <th></th>\n",
       "      <th>Company</th>\n",
       "      <th>TypeName</th>\n",
       "      <th>CPU_Frequency (GHz)</th>\n",
       "      <th>RAM (GB)</th>\n",
       "      <th>Memory</th>\n",
       "      <th>GPU_Company</th>\n",
       "      <th>GPU_Type</th>\n",
       "      <th>OpSys</th>\n",
       "      <th>Weight (kg)</th>\n",
       "      <th>Price</th>\n",
       "      <th>cpu</th>\n",
       "      <th>ips_pannel</th>\n",
       "      <th>ppi</th>\n",
       "    </tr>\n",
       "  </thead>\n",
       "  <tbody>\n",
       "    <tr>\n",
       "      <th>607</th>\n",
       "      <td>Lenovo</td>\n",
       "      <td>Notebook</td>\n",
       "      <td>2.5</td>\n",
       "      <td>6</td>\n",
       "      <td>1TB HDD</td>\n",
       "      <td>Intel</td>\n",
       "      <td>HD Graphics 620</td>\n",
       "      <td>Windows 10</td>\n",
       "      <td>2.40</td>\n",
       "      <td>564.00</td>\n",
       "      <td>Core i5</td>\n",
       "      <td>0</td>\n",
       "      <td>141.211998</td>\n",
       "    </tr>\n",
       "    <tr>\n",
       "      <th>358</th>\n",
       "      <td>Dell</td>\n",
       "      <td>Notebook</td>\n",
       "      <td>2.5</td>\n",
       "      <td>8</td>\n",
       "      <td>2TB HDD</td>\n",
       "      <td>Intel</td>\n",
       "      <td>HD Graphics 620</td>\n",
       "      <td>Windows 10</td>\n",
       "      <td>2.36</td>\n",
       "      <td>557.37</td>\n",
       "      <td>Core i5</td>\n",
       "      <td>0</td>\n",
       "      <td>100.454670</td>\n",
       "    </tr>\n",
       "    <tr>\n",
       "      <th>415</th>\n",
       "      <td>Dell</td>\n",
       "      <td>Notebook</td>\n",
       "      <td>2.5</td>\n",
       "      <td>4</td>\n",
       "      <td>256GB SSD</td>\n",
       "      <td>AMD</td>\n",
       "      <td>Radeon R5 M430</td>\n",
       "      <td>Linux</td>\n",
       "      <td>2.30</td>\n",
       "      <td>598.90</td>\n",
       "      <td>Core i5</td>\n",
       "      <td>0</td>\n",
       "      <td>141.211998</td>\n",
       "    </tr>\n",
       "    <tr>\n",
       "      <th>880</th>\n",
       "      <td>HP</td>\n",
       "      <td>2 in 1 Convertible</td>\n",
       "      <td>2.5</td>\n",
       "      <td>4</td>\n",
       "      <td>256GB SSD</td>\n",
       "      <td>Intel</td>\n",
       "      <td>HD Graphics 620</td>\n",
       "      <td>Windows 10</td>\n",
       "      <td>1.28</td>\n",
       "      <td>1700.00</td>\n",
       "      <td>Core i5</td>\n",
       "      <td>0</td>\n",
       "      <td>165.632118</td>\n",
       "    </tr>\n",
       "    <tr>\n",
       "      <th>757</th>\n",
       "      <td>HP</td>\n",
       "      <td>Workstation</td>\n",
       "      <td>2.6</td>\n",
       "      <td>8</td>\n",
       "      <td>256GB SSD</td>\n",
       "      <td>Nvidia</td>\n",
       "      <td>Quadro M1000M</td>\n",
       "      <td>Windows 7</td>\n",
       "      <td>2.59</td>\n",
       "      <td>1561.00</td>\n",
       "      <td>Core i7</td>\n",
       "      <td>0</td>\n",
       "      <td>141.211998</td>\n",
       "    </tr>\n",
       "  </tbody>\n",
       "</table>\n",
       "</div>"
      ],
      "text/plain": [
       "    Company            TypeName  CPU_Frequency (GHz)  RAM (GB)     Memory  \\\n",
       "607  Lenovo            Notebook                  2.5         6    1TB HDD   \n",
       "358    Dell            Notebook                  2.5         8    2TB HDD   \n",
       "415    Dell            Notebook                  2.5         4  256GB SSD   \n",
       "880      HP  2 in 1 Convertible                  2.5         4  256GB SSD   \n",
       "757      HP         Workstation                  2.6         8  256GB SSD   \n",
       "\n",
       "    GPU_Company         GPU_Type       OpSys  Weight (kg)    Price      cpu  \\\n",
       "607       Intel  HD Graphics 620  Windows 10         2.40   564.00  Core i5   \n",
       "358       Intel  HD Graphics 620  Windows 10         2.36   557.37  Core i5   \n",
       "415         AMD   Radeon R5 M430       Linux         2.30   598.90  Core i5   \n",
       "880       Intel  HD Graphics 620  Windows 10         1.28  1700.00  Core i5   \n",
       "757      Nvidia    Quadro M1000M   Windows 7         2.59  1561.00  Core i7   \n",
       "\n",
       "     ips_pannel         ppi  \n",
       "607           0  141.211998  \n",
       "358           0  100.454670  \n",
       "415           0  141.211998  \n",
       "880           0  165.632118  \n",
       "757           0  141.211998  "
      ]
     },
     "execution_count": 318,
     "metadata": {},
     "output_type": "execute_result"
    }
   ],
   "source": [
    "df.sample(5)"
   ]
  },
  {
   "cell_type": "markdown",
   "id": "151d075d-d952-4bb6-9ff6-aa23f819dc7e",
   "metadata": {
    "jp-MarkdownHeadingCollapsed": true
   },
   "source": [
    "## CPU_Frequency (GHz)"
   ]
  },
  {
   "cell_type": "code",
   "execution_count": 319,
   "id": "989d6826-90c8-4baa-8761-dc15621df6dd",
   "metadata": {},
   "outputs": [
    {
     "data": {
      "text/plain": [
       "<Axes: xlabel='CPU_Frequency (GHz)', ylabel='Price'>"
      ]
     },
     "execution_count": 319,
     "metadata": {},
     "output_type": "execute_result"
    },
    {
     "data": {
      "image/png": "[encoded data removed]",
      "text/plain": [
       "<Figure size 640x480 with 1 Axes>"
      ]
     },
     "metadata": {},
     "output_type": "display_data"
    }
   ],
   "source": [
    "sns.scatterplot(x=df['CPU_Frequency (GHz)'],y=df['Price'])"
   ]
  },
  {
   "cell_type": "markdown",
   "id": "20cc43f4-d5c6-4d2a-844d-851d011f043e",
   "metadata": {
    "jp-MarkdownHeadingCollapsed": true
   },
   "source": [
    "## RAM (GB)"
   ]
  },
  {
   "cell_type": "code",
   "execution_count": 321,
   "id": "6fde1692-01f1-4386-9e12-b3f34272ce2e",
   "metadata": {},
   "outputs": [
    {
     "data": {
      "text/plain": [
       "<Axes: xlabel='RAM (GB)', ylabel='Price'>"
      ]
     },
     "execution_count": 321,
     "metadata": {},
     "output_type": "execute_result"
    },
    {
     "data": {
      "image/png": "[encoded data removed]",
      "text/plain": [
       "<Figure size 640x480 with 1 Axes>"
      ]
     },
     "metadata": {},
     "output_type": "display_data"
    }
   ],
   "source": [
    "sns.barplot(x=df['RAM (GB)'],y=df['Price'])"
   ]
  },
  {
   "cell_type": "markdown",
   "id": "62daa64e-1cdd-4bd2-b4c8-d921b0631939",
   "metadata": {
    "jp-MarkdownHeadingCollapsed": true
   },
   "source": [
    "## Memory"
   ]
  },
  {
   "cell_type": "code",
   "execution_count": 322,
   "id": "16479317-e605-4218-adaa-3a2894bf47dc",
   "metadata": {},
   "outputs": [
    {
     "data": {
      "text/plain": [
       "Memory\n",
       "256GB SSD                        412\n",
       "1TB HDD                          215\n",
       "500GB HDD                        124\n",
       "512GB SSD                        114\n",
       "128GB SSD +  1TB HDD              94\n",
       "128GB SSD                         74\n",
       "256GB SSD +  1TB HDD              73\n",
       "32GB Flash Storage                35\n",
       "2TB HDD                           16\n",
       "512GB SSD +  1TB HDD              14\n",
       "1TB SSD                           14\n",
       "64GB Flash Storage                13\n",
       "256GB SSD +  2TB HDD              10\n",
       "256GB Flash Storage                8\n",
       "16GB Flash Storage                 7\n",
       "1.0TB Hybrid                       7\n",
       "32GB SSD                           6\n",
       "180GB SSD                          5\n",
       "128GB Flash Storage                4\n",
       "512GB SSD +  2TB HDD               3\n",
       "16GB SSD                           3\n",
       "512GB Flash Storage                2\n",
       "1TB SSD +  1TB HDD                 2\n",
       "256GB SSD +  500GB HDD             2\n",
       "128GB SSD +  2TB HDD               2\n",
       "256GB SSD +  256GB SSD             2\n",
       "512GB SSD +  256GB SSD             1\n",
       "512GB SSD +  512GB SSD             1\n",
       "64GB Flash Storage +  1TB HDD      1\n",
       "1TB HDD +  1TB HDD                 1\n",
       "32GB HDD                           1\n",
       "64GB SSD                           1\n",
       "128GB HDD                          1\n",
       "240GB SSD                          1\n",
       "8GB SSD                            1\n",
       "508GB Hybrid                       1\n",
       "1.0TB HDD                          1\n",
       "512GB SSD +  1.0TB Hybrid          1\n",
       "256GB SSD +  1.0TB Hybrid          1\n",
       "Name: count, dtype: int64"
      ]
     },
     "execution_count": 322,
     "metadata": {},
     "output_type": "execute_result"
    }
   ],
   "source": [
    "df['Memory'].value_counts()"
   ]
  },
  {
   "cell_type": "code",
   "execution_count": 323,
   "id": "7d712cdf-02b8-44d1-806b-ad6c93c65559",
   "metadata": {},
   "outputs": [],
   "source": [
    "df['Memory'] = df['Memory'].str.replace(r'\\.0', '', regex=True)"
   ]
  },
  {
   "cell_type": "code",
   "execution_count": 324,
   "id": "f6045e98-b65f-4d6e-8ec0-1577244e7279",
   "metadata": {},
   "outputs": [],
   "source": [
    "# Function to process the memory column\n",
    "def memory_summation(memory):\n",
    "    # Split the string by '+'\n",
    "    parts = memory.split('+')\n",
    "    \n",
    "    # Extract the numbers and types (SSD, HDD, Flash Storage) for each part\n",
    "    memory_values = []\n",
    "    for part in parts:\n",
    "        match = re.match(r'(\\d+)(GB|TB)\\s*(SSD|HDD|Flash Storage|Hybrid)', part.strip())\n",
    "        if match:\n",
    "            size, unit, type_ = match.groups()\n",
    "            size = float(size) * (1000 if unit == 'TB' else 1)  # Convert TB to GB for summation\n",
    "            memory_values.append((size, type_))\n",
    "    \n",
    "    # Check if both parts are of the same type (SSD + SSD or HDD + HDD or Flash Storage + Flash Storage)\n",
    "    if len(memory_values) == 2 and memory_values[0][1] == memory_values[1][1]:\n",
    "        total_memory = memory_values[0][0] + memory_values[1][0]  # Sum the sizes\n",
    "        return f'{int(total_memory)}GB {memory_values[0][1]}'\n",
    "    else:\n",
    "        # If parts are different types, return original but with TB converted to GB\n",
    "        converted_parts = []\n",
    "        for size, type_ in memory_values:\n",
    "            converted_parts.append(f'{int(size)}GB {type_}')\n",
    "        return ' + '.join(converted_parts)"
   ]
  },
  {
   "cell_type": "code",
   "execution_count": 325,
   "id": "d65a9731-24fb-4a7c-bc8d-6d51495a4639",
   "metadata": {},
   "outputs": [],
   "source": [
    "# Apply the function to the Memory column\n",
    "df['Memory'] = df['Memory'].apply(memory_summation)"
   ]
  },
  {
   "cell_type": "code",
   "execution_count": 326,
   "id": "d731241e-484c-4d80-8d11-9922ce2f6b55",
   "metadata": {},
   "outputs": [],
   "source": [
    "def memory_distribution_ssd(i):\n",
    "    # Split the string by '+'\n",
    "    parts = i.split('+')\n",
    "    \n",
    "    # Loop through the parts to check for 'SSD'\n",
    "    for part in parts:\n",
    "        if 'SSD' in part.strip():\n",
    "            # Use regex to extract numeric value (e.g., 256, 512, etc.)\n",
    "            match = re.search(r'(\\d+)', part.strip())\n",
    "            if match:\n",
    "                return int(match.group(1))  # Return the extracted number as an integer\n",
    "    return 0  # Return 0 if no part contains 'SSD'\n",
    "def memory_distribution_hdd(i):\n",
    "    parts = i.split('+')\n",
    "    for part in parts:\n",
    "        if 'HDD' in part.strip():\n",
    "            # Use regex to extract numeric value (e.g., 256, 512, etc.)\n",
    "            match = re.search(r'(\\d+)', part.strip())\n",
    "            if match:\n",
    "                return int(match.group(1))  # Return the extracted number as an integer\n",
    "    return 0  \n",
    "\n",
    "def memory_distribution_hybrid(i):\n",
    "    parts = i.split('+')\n",
    "    for part in parts:\n",
    "        if 'Hybrid' in part.strip():\n",
    "                        # Use regex to extract numeric value (e.g., 256, 512, etc.)\n",
    "            match = re.search(r'(\\d+)', part.strip())\n",
    "            if match:\n",
    "                return int(match.group(1))  # Return the extracted number as an integer\n",
    "    return 0  \n",
    "\n",
    "\n",
    "def memory_distribution_flash(i):\n",
    "    parts = i.split('+')\n",
    "    for part in parts:\n",
    "        if 'Flash Storage' in part.strip():\n",
    "            # Use regex to extract numeric value (e.g., 256, 512, etc.)\n",
    "            match = re.search(r'(\\d+)', part.strip())\n",
    "            if match:\n",
    "                return int(match.group(1))  # Return the extracted number as an integer\n",
    "    return 0  "
   ]
  },
  {
   "cell_type": "code",
   "execution_count": 327,
   "id": "21ed6276-1925-4926-8b13-83ec22394080",
   "metadata": {},
   "outputs": [],
   "source": [
    "df['ssd'] = df['Memory'].apply(memory_distribution_ssd)"
   ]
  },
  {
   "cell_type": "code",
   "execution_count": 328,
   "id": "cdae3cb1-6b2d-4126-93d5-a2c08e3ceba8",
   "metadata": {},
   "outputs": [],
   "source": [
    "df['hdd'] = df['Memory'].apply(memory_distribution_hdd)"
   ]
  },
  {
   "cell_type": "code",
   "execution_count": 329,
   "id": "002d9721-3ee6-413e-adba-6433d9d84990",
   "metadata": {},
   "outputs": [],
   "source": [
    "df['hybrid'] = df['Memory'].apply(memory_distribution_hybrid)"
   ]
  },
  {
   "cell_type": "code",
   "execution_count": 335,
   "id": "c1005a3a-2f66-4008-b2f6-dbacfb722b2e",
   "metadata": {},
   "outputs": [],
   "source": [
    "df['flash_storage'] = df['Memory'].apply(memory_distribution_flash)"
   ]
  },
  {
   "cell_type": "code",
   "execution_count": 331,
   "id": "30dd505a-e394-45de-a185-78beb2b0f74a",
   "metadata": {},
   "outputs": [
    {
     "data": {
      "text/plain": [
       "ssd\n",
       "256     498\n",
       "0       437\n",
       "128     170\n",
       "512     134\n",
       "1000     16\n",
       "32        6\n",
       "180       5\n",
       "16        3\n",
       "64        1\n",
       "1024      1\n",
       "768       1\n",
       "240       1\n",
       "8         1\n",
       "Name: count, dtype: int64"
      ]
     },
     "execution_count": 331,
     "metadata": {},
     "output_type": "execute_result"
    }
   ],
   "source": [
    "df['ssd'].value_counts()"
   ]
  },
  {
   "cell_type": "code",
   "execution_count": 332,
   "id": "430ba008-6a69-4da9-ab0f-e293fae3b1e8",
   "metadata": {},
   "outputs": [
    {
     "data": {
      "text/plain": [
       "hdd\n",
       "0       714\n",
       "1000    400\n",
       "500     126\n",
       "2000     32\n",
       "32        1\n",
       "128       1\n",
       "Name: count, dtype: int64"
      ]
     },
     "execution_count": 332,
     "metadata": {},
     "output_type": "execute_result"
    }
   ],
   "source": [
    "df['hdd'].value_counts()"
   ]
  },
  {
   "cell_type": "code",
   "execution_count": 333,
   "id": "c73895a7-1f11-4cbd-aa26-ae816f093490",
   "metadata": {},
   "outputs": [
    {
     "data": {
      "text/plain": [
       "hybrid\n",
       "0       1264\n",
       "1000       9\n",
       "508        1\n",
       "Name: count, dtype: int64"
      ]
     },
     "execution_count": 333,
     "metadata": {},
     "output_type": "execute_result"
    }
   ],
   "source": [
    "df['hybrid'].value_counts()"
   ]
  },
  {
   "cell_type": "code",
   "execution_count": 336,
   "id": "aa11cb1c-5564-4916-8ca8-5f3d222718f6",
   "metadata": {},
   "outputs": [
    {
     "data": {
      "text/plain": [
       "flash_storage\n",
       "0      1204\n",
       "32       35\n",
       "64       14\n",
       "256       8\n",
       "16        7\n",
       "128       4\n",
       "512       2\n",
       "Name: count, dtype: int64"
      ]
     },
     "execution_count": 336,
     "metadata": {},
     "output_type": "execute_result"
    }
   ],
   "source": [
    "df['flash_storage'].value_counts()"
   ]
  },
  {
   "cell_type": "code",
   "execution_count": 234,
   "id": "c5e4de3c-dbf3-4a6e-a8df-0d237d7c4942",
   "metadata": {},
   "outputs": [],
   "source": [
    "# df.to_csv('leptop_check.csv')"
   ]
  },
  {
   "cell_type": "code",
   "execution_count": 338,
   "id": "1814be7d-1157-4c42-a594-c5e843a078ed",
   "metadata": {},
   "outputs": [],
   "source": [
    "df.drop(['Memory','Flash_storage'],axis=1,inplace=True)"
   ]
  },
  {
   "cell_type": "code",
   "execution_count": 340,
   "id": "28320770-e6be-49d3-88cf-f6a98cd9e67a",
   "metadata": {},
   "outputs": [
    {
     "data": {
      "text/html": [
       "<div>\n",
       "<style scoped>\n",
       "    .dataframe tbody tr th:only-of-type {\n",
       "        vertical-align: middle;\n",
       "    }\n",
       "\n",
       "    .dataframe tbody tr th {\n",
       "        vertical-align: top;\n",
       "    }\n",
       "\n",
       "    .dataframe thead th {\n",
       "        text-align: right;\n",
       "    }\n",
       "</style>\n",
       "<table border=\"1\" class=\"dataframe\">\n",
       "  <thead>\n",
       "    <tr style=\"text-align: right;\">\n",
       "      <th></th>\n",
       "      <th>Company</th>\n",
       "      <th>TypeName</th>\n",
       "      <th>CPU_Frequency (GHz)</th>\n",
       "      <th>RAM (GB)</th>\n",
       "      <th>GPU_Company</th>\n",
       "      <th>GPU_Type</th>\n",
       "      <th>OpSys</th>\n",
       "      <th>Weight (kg)</th>\n",
       "      <th>Price</th>\n",
       "      <th>cpu</th>\n",
       "      <th>ips_pannel</th>\n",
       "      <th>ppi</th>\n",
       "      <th>ssd</th>\n",
       "      <th>hdd</th>\n",
       "      <th>hybrid</th>\n",
       "      <th>flash_storage</th>\n",
       "    </tr>\n",
       "  </thead>\n",
       "  <tbody>\n",
       "    <tr>\n",
       "      <th>1147</th>\n",
       "      <td>Dell</td>\n",
       "      <td>Notebook</td>\n",
       "      <td>2.7</td>\n",
       "      <td>8</td>\n",
       "      <td>Nvidia</td>\n",
       "      <td>GeForce 940MX</td>\n",
       "      <td>Windows 10</td>\n",
       "      <td>2.18</td>\n",
       "      <td>1009.9</td>\n",
       "      <td>Core i7</td>\n",
       "      <td>0</td>\n",
       "      <td>141.211998</td>\n",
       "      <td>256</td>\n",
       "      <td>0</td>\n",
       "      <td>0</td>\n",
       "      <td>0</td>\n",
       "    </tr>\n",
       "    <tr>\n",
       "      <th>303</th>\n",
       "      <td>Lenovo</td>\n",
       "      <td>Notebook</td>\n",
       "      <td>2.5</td>\n",
       "      <td>8</td>\n",
       "      <td>Nvidia</td>\n",
       "      <td>GeForce 940MX</td>\n",
       "      <td>No OS</td>\n",
       "      <td>2.20</td>\n",
       "      <td>549.0</td>\n",
       "      <td>Core i5</td>\n",
       "      <td>0</td>\n",
       "      <td>100.454670</td>\n",
       "      <td>0</td>\n",
       "      <td>2000</td>\n",
       "      <td>0</td>\n",
       "      <td>0</td>\n",
       "    </tr>\n",
       "    <tr>\n",
       "      <th>348</th>\n",
       "      <td>Asus</td>\n",
       "      <td>2 in 1 Convertible</td>\n",
       "      <td>1.1</td>\n",
       "      <td>4</td>\n",
       "      <td>Intel</td>\n",
       "      <td>HD Graphics 500</td>\n",
       "      <td>Windows 10</td>\n",
       "      <td>1.50</td>\n",
       "      <td>375.0</td>\n",
       "      <td>other intel</td>\n",
       "      <td>0</td>\n",
       "      <td>135.094211</td>\n",
       "      <td>0</td>\n",
       "      <td>0</td>\n",
       "      <td>0</td>\n",
       "      <td>32</td>\n",
       "    </tr>\n",
       "    <tr>\n",
       "      <th>177</th>\n",
       "      <td>MSI</td>\n",
       "      <td>Gaming</td>\n",
       "      <td>2.9</td>\n",
       "      <td>32</td>\n",
       "      <td>Nvidia</td>\n",
       "      <td>GTX 980 SLI</td>\n",
       "      <td>Windows 10</td>\n",
       "      <td>4.40</td>\n",
       "      <td>2799.0</td>\n",
       "      <td>Core i7</td>\n",
       "      <td>0</td>\n",
       "      <td>119.723216</td>\n",
       "      <td>512</td>\n",
       "      <td>1000</td>\n",
       "      <td>0</td>\n",
       "      <td>0</td>\n",
       "    </tr>\n",
       "    <tr>\n",
       "      <th>1117</th>\n",
       "      <td>Razer</td>\n",
       "      <td>Ultrabook</td>\n",
       "      <td>2.5</td>\n",
       "      <td>8</td>\n",
       "      <td>Intel</td>\n",
       "      <td>HD Graphics 520</td>\n",
       "      <td>Windows 10</td>\n",
       "      <td>1.25</td>\n",
       "      <td>1029.0</td>\n",
       "      <td>Core i7</td>\n",
       "      <td>0</td>\n",
       "      <td>352.465147</td>\n",
       "      <td>256</td>\n",
       "      <td>0</td>\n",
       "      <td>0</td>\n",
       "      <td>0</td>\n",
       "    </tr>\n",
       "  </tbody>\n",
       "</table>\n",
       "</div>"
      ],
      "text/plain": [
       "     Company            TypeName  CPU_Frequency (GHz)  RAM (GB) GPU_Company  \\\n",
       "1147    Dell            Notebook                  2.7         8      Nvidia   \n",
       "303   Lenovo            Notebook                  2.5         8      Nvidia   \n",
       "348     Asus  2 in 1 Convertible                  1.1         4       Intel   \n",
       "177      MSI              Gaming                  2.9        32      Nvidia   \n",
       "1117   Razer           Ultrabook                  2.5         8       Intel   \n",
       "\n",
       "             GPU_Type       OpSys  Weight (kg)   Price          cpu  \\\n",
       "1147    GeForce 940MX  Windows 10         2.18  1009.9      Core i7   \n",
       "303     GeForce 940MX       No OS         2.20   549.0      Core i5   \n",
       "348   HD Graphics 500  Windows 10         1.50   375.0  other intel   \n",
       "177       GTX 980 SLI  Windows 10         4.40  2799.0      Core i7   \n",
       "1117  HD Graphics 520  Windows 10         1.25  1029.0      Core i7   \n",
       "\n",
       "      ips_pannel         ppi  ssd   hdd  hybrid  flash_storage  \n",
       "1147           0  141.211998  256     0       0              0  \n",
       "303            0  100.454670    0  2000       0              0  \n",
       "348            0  135.094211    0     0       0             32  \n",
       "177            0  119.723216  512  1000       0              0  \n",
       "1117           0  352.465147  256     0       0              0  "
      ]
     },
     "execution_count": 340,
     "metadata": {},
     "output_type": "execute_result"
    }
   ],
   "source": [
    "df.sample(5)"
   ]
  },
  {
   "cell_type": "markdown",
   "id": "81ee7747-d618-4fd6-af84-c05246a00a60",
   "metadata": {
    "jp-MarkdownHeadingCollapsed": true
   },
   "source": [
    "## GPU_Company"
   ]
  },
  {
   "cell_type": "code",
   "execution_count": 341,
   "id": "41a892b2-5443-4052-994c-b13ee74f4c4a",
   "metadata": {},
   "outputs": [
    {
     "data": {
      "text/plain": [
       "GPU_Company\n",
       "Intel     704\n",
       "Nvidia    396\n",
       "AMD       174\n",
       "Name: count, dtype: int64"
      ]
     },
     "execution_count": 341,
     "metadata": {},
     "output_type": "execute_result"
    }
   ],
   "source": [
    "df['GPU_Company'].value_counts()"
   ]
  },
  {
   "cell_type": "code",
   "execution_count": 344,
   "id": "7fd3fc33-edb1-44fc-bbab-edb3e44f7941",
   "metadata": {},
   "outputs": [
    {
     "data": {
      "image/png": "[encoded data removed]",
      "text/plain": [
       "<Figure size 640x480 with 1 Axes>"
      ]
     },
     "metadata": {},
     "output_type": "display_data"
    }
   ],
   "source": [
    "sns.barplot(x=df['GPU_Company'],y=df['Price'])\n",
    "plt.xticks(rotation='vertical')\n",
    "plt.show()"
   ]
  },
  {
   "cell_type": "markdown",
   "id": "d167443f-a8ad-40aa-9502-a767ade80668",
   "metadata": {
    "jp-MarkdownHeadingCollapsed": true
   },
   "source": [
    "## GPU_Type"
   ]
  },
  {
   "cell_type": "code",
   "execution_count": 345,
   "id": "7c5c9ec0-9779-4f0a-95df-f5f7b6457e71",
   "metadata": {},
   "outputs": [],
   "source": [
    "df.drop(['GPU_Type'], axis=1, inplace=True)"
   ]
  },
  {
   "cell_type": "code",
   "execution_count": 346,
   "id": "975df0cb-e0de-4444-91c8-e02c9430897e",
   "metadata": {},
   "outputs": [
    {
     "data": {
      "text/html": [
       "<div>\n",
       "<style scoped>\n",
       "    .dataframe tbody tr th:only-of-type {\n",
       "        vertical-align: middle;\n",
       "    }\n",
       "\n",
       "    .dataframe tbody tr th {\n",
       "        vertical-align: top;\n",
       "    }\n",
       "\n",
       "    .dataframe thead th {\n",
       "        text-align: right;\n",
       "    }\n",
       "</style>\n",
       "<table border=\"1\" class=\"dataframe\">\n",
       "  <thead>\n",
       "    <tr style=\"text-align: right;\">\n",
       "      <th></th>\n",
       "      <th>Company</th>\n",
       "      <th>TypeName</th>\n",
       "      <th>CPU_Frequency (GHz)</th>\n",
       "      <th>RAM (GB)</th>\n",
       "      <th>GPU_Company</th>\n",
       "      <th>OpSys</th>\n",
       "      <th>Weight (kg)</th>\n",
       "      <th>Price</th>\n",
       "      <th>cpu</th>\n",
       "      <th>ips_pannel</th>\n",
       "      <th>ppi</th>\n",
       "      <th>ssd</th>\n",
       "      <th>hdd</th>\n",
       "      <th>hybrid</th>\n",
       "      <th>flash_storage</th>\n",
       "    </tr>\n",
       "  </thead>\n",
       "  <tbody>\n",
       "    <tr>\n",
       "      <th>426</th>\n",
       "      <td>Dell</td>\n",
       "      <td>Notebook</td>\n",
       "      <td>1.8</td>\n",
       "      <td>8</td>\n",
       "      <td>AMD</td>\n",
       "      <td>Windows 10</td>\n",
       "      <td>2.02</td>\n",
       "      <td>1142.40</td>\n",
       "      <td>Core i7</td>\n",
       "      <td>0</td>\n",
       "      <td>141.211998</td>\n",
       "      <td>256</td>\n",
       "      <td>2000</td>\n",
       "      <td>0</td>\n",
       "      <td>0</td>\n",
       "    </tr>\n",
       "    <tr>\n",
       "      <th>1102</th>\n",
       "      <td>Acer</td>\n",
       "      <td>Notebook</td>\n",
       "      <td>1.5</td>\n",
       "      <td>4</td>\n",
       "      <td>Intel</td>\n",
       "      <td>Chrome OS</td>\n",
       "      <td>2.20</td>\n",
       "      <td>209.00</td>\n",
       "      <td>other intel</td>\n",
       "      <td>0</td>\n",
       "      <td>100.454670</td>\n",
       "      <td>16</td>\n",
       "      <td>0</td>\n",
       "      <td>0</td>\n",
       "      <td>0</td>\n",
       "    </tr>\n",
       "    <tr>\n",
       "      <th>618</th>\n",
       "      <td>MSI</td>\n",
       "      <td>Gaming</td>\n",
       "      <td>2.8</td>\n",
       "      <td>16</td>\n",
       "      <td>Nvidia</td>\n",
       "      <td>Windows 10</td>\n",
       "      <td>2.94</td>\n",
       "      <td>2267.86</td>\n",
       "      <td>Core i7</td>\n",
       "      <td>0</td>\n",
       "      <td>141.211998</td>\n",
       "      <td>256</td>\n",
       "      <td>1000</td>\n",
       "      <td>0</td>\n",
       "      <td>0</td>\n",
       "    </tr>\n",
       "    <tr>\n",
       "      <th>155</th>\n",
       "      <td>HP</td>\n",
       "      <td>Notebook</td>\n",
       "      <td>1.6</td>\n",
       "      <td>6</td>\n",
       "      <td>AMD</td>\n",
       "      <td>Windows 10</td>\n",
       "      <td>1.91</td>\n",
       "      <td>619.00</td>\n",
       "      <td>Core i5</td>\n",
       "      <td>0</td>\n",
       "      <td>141.211998</td>\n",
       "      <td>256</td>\n",
       "      <td>0</td>\n",
       "      <td>0</td>\n",
       "      <td>0</td>\n",
       "    </tr>\n",
       "    <tr>\n",
       "      <th>461</th>\n",
       "      <td>Acer</td>\n",
       "      <td>Netbook</td>\n",
       "      <td>1.6</td>\n",
       "      <td>4</td>\n",
       "      <td>Intel</td>\n",
       "      <td>Windows 10</td>\n",
       "      <td>1.40</td>\n",
       "      <td>435.00</td>\n",
       "      <td>other intel</td>\n",
       "      <td>0</td>\n",
       "      <td>135.094211</td>\n",
       "      <td>128</td>\n",
       "      <td>0</td>\n",
       "      <td>0</td>\n",
       "      <td>0</td>\n",
       "    </tr>\n",
       "  </tbody>\n",
       "</table>\n",
       "</div>"
      ],
      "text/plain": [
       "     Company  TypeName  CPU_Frequency (GHz)  RAM (GB) GPU_Company       OpSys  \\\n",
       "426     Dell  Notebook                  1.8         8         AMD  Windows 10   \n",
       "1102    Acer  Notebook                  1.5         4       Intel   Chrome OS   \n",
       "618      MSI    Gaming                  2.8        16      Nvidia  Windows 10   \n",
       "155       HP  Notebook                  1.6         6         AMD  Windows 10   \n",
       "461     Acer   Netbook                  1.6         4       Intel  Windows 10   \n",
       "\n",
       "      Weight (kg)    Price          cpu  ips_pannel         ppi  ssd   hdd  \\\n",
       "426          2.02  1142.40      Core i7           0  141.211998  256  2000   \n",
       "1102         2.20   209.00  other intel           0  100.454670   16     0   \n",
       "618          2.94  2267.86      Core i7           0  141.211998  256  1000   \n",
       "155          1.91   619.00      Core i5           0  141.211998  256     0   \n",
       "461          1.40   435.00  other intel           0  135.094211  128     0   \n",
       "\n",
       "      hybrid  flash_storage  \n",
       "426        0              0  \n",
       "1102       0              0  \n",
       "618        0              0  \n",
       "155        0              0  \n",
       "461        0              0  "
      ]
     },
     "execution_count": 346,
     "metadata": {},
     "output_type": "execute_result"
    }
   ],
   "source": [
    "df.sample(5)"
   ]
  },
  {
   "cell_type": "markdown",
   "id": "7702b1d1-a3b6-4313-8b03-a101e3bffb39",
   "metadata": {
    "jp-MarkdownHeadingCollapsed": true
   },
   "source": [
    "## OpSys"
   ]
  },
  {
   "cell_type": "code",
   "execution_count": 347,
   "id": "b08c4441-0cd5-4b1f-b9b6-bcdd925be5fe",
   "metadata": {
    "scrolled": true
   },
   "outputs": [
    {
     "data": {
      "text/plain": [
       "OpSys\n",
       "Windows 10      1048\n",
       "No OS             66\n",
       "Linux             58\n",
       "Windows 7         45\n",
       "Chrome OS         26\n",
       "macOS             13\n",
       "Mac OS X           8\n",
       "Windows 10 S       8\n",
       "Android            2\n",
       "Name: count, dtype: int64"
      ]
     },
     "execution_count": 347,
     "metadata": {},
     "output_type": "execute_result"
    }
   ],
   "source": [
    "df['OpSys'].value_counts()"
   ]
  },
  {
   "cell_type": "code",
   "execution_count": 348,
   "id": "283f9394-53cd-450a-802b-83912f05a9db",
   "metadata": {},
   "outputs": [],
   "source": [
    "df['OpSys'] = df['OpSys'].replace('Mac OS X','macOS')"
   ]
  },
  {
   "cell_type": "code",
   "execution_count": 349,
   "id": "2b9924d7-b3ef-441e-9917-188bd82e895a",
   "metadata": {},
   "outputs": [],
   "source": [
    "df['OpSys'] = df['OpSys'].replace('Windows 10 S','Windows 10')"
   ]
  },
  {
   "cell_type": "code",
   "execution_count": 350,
   "id": "1682b87e-9cf3-4e00-a8b8-03ea5dab8306",
   "metadata": {},
   "outputs": [],
   "source": [
    "def os_transform (i):\n",
    "    if i == 'Windows 10' or i == 'Windows 7':\n",
    "        return 'Windows'\n",
    "    elif i == 'macOS':\n",
    "        return 'Macos'\n",
    "    else:\n",
    "        return 'Otheros'"
   ]
  },
  {
   "cell_type": "code",
   "execution_count": 351,
   "id": "deafc663-3903-4266-8e8e-812684bbbb4c",
   "metadata": {},
   "outputs": [],
   "source": [
    "df['os'] = df['OpSys'].apply(os_transform)"
   ]
  },
  {
   "cell_type": "code",
   "execution_count": 352,
   "id": "64c23b46-c540-43e2-ae62-c52c155f8067",
   "metadata": {},
   "outputs": [
    {
     "data": {
      "text/plain": [
       "os\n",
       "Windows    1101\n",
       "Otheros     152\n",
       "Macos        21\n",
       "Name: count, dtype: int64"
      ]
     },
     "execution_count": 352,
     "metadata": {},
     "output_type": "execute_result"
    }
   ],
   "source": [
    "df['os'].value_counts()"
   ]
  },
  {
   "cell_type": "code",
   "execution_count": 353,
   "id": "0a61af48-6ab0-4895-8825-1664c3eafe18",
   "metadata": {},
   "outputs": [],
   "source": [
    "df.drop(['OpSys'],axis=1,inplace=True)"
   ]
  },
  {
   "cell_type": "code",
   "execution_count": 354,
   "id": "dd17e6b3-596d-481f-8b52-be2992dee508",
   "metadata": {},
   "outputs": [
    {
     "data": {
      "text/html": [
       "<div>\n",
       "<style scoped>\n",
       "    .dataframe tbody tr th:only-of-type {\n",
       "        vertical-align: middle;\n",
       "    }\n",
       "\n",
       "    .dataframe tbody tr th {\n",
       "        vertical-align: top;\n",
       "    }\n",
       "\n",
       "    .dataframe thead th {\n",
       "        text-align: right;\n",
       "    }\n",
       "</style>\n",
       "<table border=\"1\" class=\"dataframe\">\n",
       "  <thead>\n",
       "    <tr style=\"text-align: right;\">\n",
       "      <th></th>\n",
       "      <th>Company</th>\n",
       "      <th>TypeName</th>\n",
       "      <th>CPU_Frequency (GHz)</th>\n",
       "      <th>RAM (GB)</th>\n",
       "      <th>GPU_Company</th>\n",
       "      <th>Weight (kg)</th>\n",
       "      <th>Price</th>\n",
       "      <th>cpu</th>\n",
       "      <th>ips_pannel</th>\n",
       "      <th>ppi</th>\n",
       "      <th>ssd</th>\n",
       "      <th>hdd</th>\n",
       "      <th>hybrid</th>\n",
       "      <th>flash_storage</th>\n",
       "      <th>os</th>\n",
       "    </tr>\n",
       "  </thead>\n",
       "  <tbody>\n",
       "    <tr>\n",
       "      <th>12</th>\n",
       "      <td>Apple</td>\n",
       "      <td>Ultrabook</td>\n",
       "      <td>2.8</td>\n",
       "      <td>16</td>\n",
       "      <td>AMD</td>\n",
       "      <td>1.83</td>\n",
       "      <td>2439.97</td>\n",
       "      <td>AMD</td>\n",
       "      <td>1</td>\n",
       "      <td>220.534624</td>\n",
       "      <td>256</td>\n",
       "      <td>0</td>\n",
       "      <td>0</td>\n",
       "      <td>0</td>\n",
       "      <td>Macos</td>\n",
       "    </tr>\n",
       "    <tr>\n",
       "      <th>681</th>\n",
       "      <td>Asus</td>\n",
       "      <td>Notebook</td>\n",
       "      <td>1.1</td>\n",
       "      <td>4</td>\n",
       "      <td>Intel</td>\n",
       "      <td>1.86</td>\n",
       "      <td>419.00</td>\n",
       "      <td>other intel</td>\n",
       "      <td>0</td>\n",
       "      <td>100.454670</td>\n",
       "      <td>128</td>\n",
       "      <td>0</td>\n",
       "      <td>0</td>\n",
       "      <td>0</td>\n",
       "      <td>Windows</td>\n",
       "    </tr>\n",
       "    <tr>\n",
       "      <th>85</th>\n",
       "      <td>Dell</td>\n",
       "      <td>Gaming</td>\n",
       "      <td>2.8</td>\n",
       "      <td>16</td>\n",
       "      <td>Nvidia</td>\n",
       "      <td>2.65</td>\n",
       "      <td>1349.00</td>\n",
       "      <td>Core i7</td>\n",
       "      <td>1</td>\n",
       "      <td>141.211998</td>\n",
       "      <td>128</td>\n",
       "      <td>1000</td>\n",
       "      <td>0</td>\n",
       "      <td>0</td>\n",
       "      <td>Windows</td>\n",
       "    </tr>\n",
       "    <tr>\n",
       "      <th>763</th>\n",
       "      <td>Asus</td>\n",
       "      <td>Ultrabook</td>\n",
       "      <td>2.5</td>\n",
       "      <td>8</td>\n",
       "      <td>Intel</td>\n",
       "      <td>1.20</td>\n",
       "      <td>1129.00</td>\n",
       "      <td>Core i5</td>\n",
       "      <td>1</td>\n",
       "      <td>276.053530</td>\n",
       "      <td>256</td>\n",
       "      <td>0</td>\n",
       "      <td>0</td>\n",
       "      <td>0</td>\n",
       "      <td>Windows</td>\n",
       "    </tr>\n",
       "    <tr>\n",
       "      <th>881</th>\n",
       "      <td>HP</td>\n",
       "      <td>2 in 1 Convertible</td>\n",
       "      <td>2.5</td>\n",
       "      <td>4</td>\n",
       "      <td>Intel</td>\n",
       "      <td>2.30</td>\n",
       "      <td>684.80</td>\n",
       "      <td>Core i5</td>\n",
       "      <td>0</td>\n",
       "      <td>100.454670</td>\n",
       "      <td>0</td>\n",
       "      <td>500</td>\n",
       "      <td>0</td>\n",
       "      <td>0</td>\n",
       "      <td>Windows</td>\n",
       "    </tr>\n",
       "  </tbody>\n",
       "</table>\n",
       "</div>"
      ],
      "text/plain": [
       "    Company            TypeName  CPU_Frequency (GHz)  RAM (GB) GPU_Company  \\\n",
       "12    Apple           Ultrabook                  2.8        16         AMD   \n",
       "681    Asus            Notebook                  1.1         4       Intel   \n",
       "85     Dell              Gaming                  2.8        16      Nvidia   \n",
       "763    Asus           Ultrabook                  2.5         8       Intel   \n",
       "881      HP  2 in 1 Convertible                  2.5         4       Intel   \n",
       "\n",
       "     Weight (kg)    Price          cpu  ips_pannel         ppi  ssd   hdd  \\\n",
       "12          1.83  2439.97          AMD           1  220.534624  256     0   \n",
       "681         1.86   419.00  other intel           0  100.454670  128     0   \n",
       "85          2.65  1349.00      Core i7           1  141.211998  128  1000   \n",
       "763         1.20  1129.00      Core i5           1  276.053530  256     0   \n",
       "881         2.30   684.80      Core i5           0  100.454670    0   500   \n",
       "\n",
       "     hybrid  flash_storage       os  \n",
       "12        0              0    Macos  \n",
       "681       0              0  Windows  \n",
       "85        0              0  Windows  \n",
       "763       0              0  Windows  \n",
       "881       0              0  Windows  "
      ]
     },
     "execution_count": 354,
     "metadata": {},
     "output_type": "execute_result"
    }
   ],
   "source": [
    "df.sample(5)"
   ]
  },
  {
   "cell_type": "markdown",
   "id": "25bc650c-342e-48c9-8107-9d8ae666fc49",
   "metadata": {
    "jp-MarkdownHeadingCollapsed": true
   },
   "source": [
    "## Weight (kg)"
   ]
  },
  {
   "cell_type": "code",
   "execution_count": 355,
   "id": "e162223f-b5e8-4954-9b1a-ca1d1e773c59",
   "metadata": {},
   "outputs": [
    {
     "data": {
      "text/plain": [
       "<Axes: xlabel='Weight (kg)', ylabel='Price'>"
      ]
     },
     "execution_count": 355,
     "metadata": {},
     "output_type": "execute_result"
    },
    {
     "data": {
      "image/png": "[encoded data removed]",
      "text/plain": [
       "<Figure size 640x480 with 1 Axes>"
      ]
     },
     "metadata": {},
     "output_type": "display_data"
    }
   ],
   "source": [
    "sns.scatterplot(x=df['Weight (kg)'],y=df['Price'])"
   ]
  },
  {
   "cell_type": "markdown",
   "id": "8cb9f7b1-f598-466d-9208-59d849f31827",
   "metadata": {
    "jp-MarkdownHeadingCollapsed": true
   },
   "source": [
    "## Price"
   ]
  },
  {
   "cell_type": "code",
   "execution_count": 364,
   "id": "40e6a694-bb0b-4408-b802-d17e32b14919",
   "metadata": {},
   "outputs": [
    {
     "name": "stderr",
     "output_type": "stream",
     "text": [
      "/var/folders/nc/r36nhgd97lbcs7vxcz4qxqc00000gn/T/ipykernel_17060/834922981.py:1: UserWarning: \n",
      "\n",
      "`distplot` is a deprecated function and will be removed in seaborn v0.14.0.\n",
      "\n",
      "Please adapt your code to use either `displot` (a figure-level function with\n",
      "similar flexibility) or `histplot` (an axes-level function for histograms).\n",
      "\n",
      "For a guide to updating your code to use the new functions, please see\n",
      "https://gist.github.com/mwaskom/de44147ed2974457ad6372750bbe5751\n",
      "\n",
      "  sns.distplot(df['Price'])\n",
      "/Users/jayeshpatel/anaconda3/lib/python3.11/site-packages/seaborn/_oldcore.py:1119: FutureWarning: use_inf_as_na option is deprecated and will be removed in a future version. Convert inf values to NaN before operating instead.\n",
      "  with pd.option_context('mode.use_inf_as_na', True):\n"
     ]
    },
    {
     "data": {
      "text/plain": [
       "<Axes: xlabel='Price', ylabel='Density'>"
      ]
     },
     "execution_count": 364,
     "metadata": {},
     "output_type": "execute_result"
    },
    {
     "data": {
      "image/png": "[encoded data removed]",
      "text/plain": [
       "<Figure size 640x480 with 1 Axes>"
      ]
     },
     "metadata": {},
     "output_type": "display_data"
    }
   ],
   "source": [
    "sns.distplot(df['Price'])"
   ]
  },
  {
   "cell_type": "code",
   "execution_count": 365,
   "id": "8cfa759d-42a5-481b-9766-9988e24b50ec",
   "metadata": {},
   "outputs": [
    {
     "name": "stderr",
     "output_type": "stream",
     "text": [
      "/var/folders/nc/r36nhgd97lbcs7vxcz4qxqc00000gn/T/ipykernel_17060/3556049916.py:1: UserWarning: \n",
      "\n",
      "`distplot` is a deprecated function and will be removed in seaborn v0.14.0.\n",
      "\n",
      "Please adapt your code to use either `displot` (a figure-level function with\n",
      "similar flexibility) or `histplot` (an axes-level function for histograms).\n",
      "\n",
      "For a guide to updating your code to use the new functions, please see\n",
      "https://gist.github.com/mwaskom/de44147ed2974457ad6372750bbe5751\n",
      "\n",
      "  sns.distplot(np.log(df['Price']))\n",
      "/Users/jayeshpatel/anaconda3/lib/python3.11/site-packages/seaborn/_oldcore.py:1119: FutureWarning: use_inf_as_na option is deprecated and will be removed in a future version. Convert inf values to NaN before operating instead.\n",
      "  with pd.option_context('mode.use_inf_as_na', True):\n"
     ]
    },
    {
     "data": {
      "text/plain": [
       "<Axes: xlabel='Price', ylabel='Density'>"
      ]
     },
     "execution_count": 365,
     "metadata": {},
     "output_type": "execute_result"
    },
    {
     "data": {
      "image/png": "[encoded data removed]",
      "text/plain": [
       "<Figure size 640x480 with 1 Axes>"
      ]
     },
     "metadata": {},
     "output_type": "display_data"
    }
   ],
   "source": [
    "sns.distplot(np.log(df['Price']))"
   ]
  },
  {
   "cell_type": "code",
   "execution_count": 366,
   "id": "d3594bd9-881e-41bd-bca5-a6e3ceee696b",
   "metadata": {},
   "outputs": [],
   "source": [
    "df['Price'] = np.log(df['Price'])"
   ]
  },
  {
   "cell_type": "markdown",
   "id": "ea956e71-c4ac-463d-9cfb-1568bd86833d",
   "metadata": {
    "jp-MarkdownHeadingCollapsed": true
   },
   "source": [
    "## ML"
   ]
  },
  {
   "cell_type": "code",
   "execution_count": 356,
   "id": "4aa40eff-deda-4c34-a0a4-a16876a8ddaf",
   "metadata": {},
   "outputs": [],
   "source": [
    "df.to_csv('df_final.csv')"
   ]
  },
  {
   "cell_type": "code",
   "execution_count": 367,
   "id": "c464b161-4bfa-45c1-a23e-0b3906f87a44",
   "metadata": {},
   "outputs": [
    {
     "data": {
      "text/html": [
       "<div>\n",
       "<style scoped>\n",
       "    .dataframe tbody tr th:only-of-type {\n",
       "        vertical-align: middle;\n",
       "    }\n",
       "\n",
       "    .dataframe tbody tr th {\n",
       "        vertical-align: top;\n",
       "    }\n",
       "\n",
       "    .dataframe thead th {\n",
       "        text-align: right;\n",
       "    }\n",
       "</style>\n",
       "<table border=\"1\" class=\"dataframe\">\n",
       "  <thead>\n",
       "    <tr style=\"text-align: right;\">\n",
       "      <th></th>\n",
       "      <th>Company</th>\n",
       "      <th>TypeName</th>\n",
       "      <th>CPU_Frequency (GHz)</th>\n",
       "      <th>RAM (GB)</th>\n",
       "      <th>GPU_Company</th>\n",
       "      <th>Weight (kg)</th>\n",
       "      <th>cpu</th>\n",
       "      <th>ips_pannel</th>\n",
       "      <th>ppi</th>\n",
       "      <th>ssd</th>\n",
       "      <th>hdd</th>\n",
       "      <th>hybrid</th>\n",
       "      <th>flash_storage</th>\n",
       "      <th>os</th>\n",
       "    </tr>\n",
       "  </thead>\n",
       "  <tbody>\n",
       "    <tr>\n",
       "      <th>0</th>\n",
       "      <td>Apple</td>\n",
       "      <td>Ultrabook</td>\n",
       "      <td>2.3</td>\n",
       "      <td>8</td>\n",
       "      <td>Intel</td>\n",
       "      <td>1.37</td>\n",
       "      <td>AMD</td>\n",
       "      <td>1</td>\n",
       "      <td>226.983005</td>\n",
       "      <td>128</td>\n",
       "      <td>0</td>\n",
       "      <td>0</td>\n",
       "      <td>0</td>\n",
       "      <td>Macos</td>\n",
       "    </tr>\n",
       "    <tr>\n",
       "      <th>1</th>\n",
       "      <td>Apple</td>\n",
       "      <td>Ultrabook</td>\n",
       "      <td>1.8</td>\n",
       "      <td>8</td>\n",
       "      <td>Intel</td>\n",
       "      <td>1.34</td>\n",
       "      <td>AMD</td>\n",
       "      <td>0</td>\n",
       "      <td>127.677940</td>\n",
       "      <td>0</td>\n",
       "      <td>0</td>\n",
       "      <td>0</td>\n",
       "      <td>128</td>\n",
       "      <td>Macos</td>\n",
       "    </tr>\n",
       "    <tr>\n",
       "      <th>2</th>\n",
       "      <td>HP</td>\n",
       "      <td>Notebook</td>\n",
       "      <td>2.5</td>\n",
       "      <td>8</td>\n",
       "      <td>Intel</td>\n",
       "      <td>1.86</td>\n",
       "      <td>Core i5</td>\n",
       "      <td>0</td>\n",
       "      <td>141.211998</td>\n",
       "      <td>256</td>\n",
       "      <td>0</td>\n",
       "      <td>0</td>\n",
       "      <td>0</td>\n",
       "      <td>Otheros</td>\n",
       "    </tr>\n",
       "    <tr>\n",
       "      <th>3</th>\n",
       "      <td>Apple</td>\n",
       "      <td>Ultrabook</td>\n",
       "      <td>2.7</td>\n",
       "      <td>16</td>\n",
       "      <td>AMD</td>\n",
       "      <td>1.83</td>\n",
       "      <td>AMD</td>\n",
       "      <td>1</td>\n",
       "      <td>220.534624</td>\n",
       "      <td>512</td>\n",
       "      <td>0</td>\n",
       "      <td>0</td>\n",
       "      <td>0</td>\n",
       "      <td>Macos</td>\n",
       "    </tr>\n",
       "    <tr>\n",
       "      <th>4</th>\n",
       "      <td>Apple</td>\n",
       "      <td>Ultrabook</td>\n",
       "      <td>3.1</td>\n",
       "      <td>8</td>\n",
       "      <td>Intel</td>\n",
       "      <td>1.37</td>\n",
       "      <td>AMD</td>\n",
       "      <td>1</td>\n",
       "      <td>226.983005</td>\n",
       "      <td>256</td>\n",
       "      <td>0</td>\n",
       "      <td>0</td>\n",
       "      <td>0</td>\n",
       "      <td>Macos</td>\n",
       "    </tr>\n",
       "    <tr>\n",
       "      <th>...</th>\n",
       "      <td>...</td>\n",
       "      <td>...</td>\n",
       "      <td>...</td>\n",
       "      <td>...</td>\n",
       "      <td>...</td>\n",
       "      <td>...</td>\n",
       "      <td>...</td>\n",
       "      <td>...</td>\n",
       "      <td>...</td>\n",
       "      <td>...</td>\n",
       "      <td>...</td>\n",
       "      <td>...</td>\n",
       "      <td>...</td>\n",
       "      <td>...</td>\n",
       "    </tr>\n",
       "    <tr>\n",
       "      <th>1270</th>\n",
       "      <td>Lenovo</td>\n",
       "      <td>2 in 1 Convertible</td>\n",
       "      <td>2.5</td>\n",
       "      <td>4</td>\n",
       "      <td>Intel</td>\n",
       "      <td>1.80</td>\n",
       "      <td>Core i7</td>\n",
       "      <td>1</td>\n",
       "      <td>157.350512</td>\n",
       "      <td>128</td>\n",
       "      <td>0</td>\n",
       "      <td>0</td>\n",
       "      <td>0</td>\n",
       "      <td>Windows</td>\n",
       "    </tr>\n",
       "    <tr>\n",
       "      <th>1271</th>\n",
       "      <td>Lenovo</td>\n",
       "      <td>2 in 1 Convertible</td>\n",
       "      <td>2.5</td>\n",
       "      <td>16</td>\n",
       "      <td>Intel</td>\n",
       "      <td>1.30</td>\n",
       "      <td>Core i7</td>\n",
       "      <td>1</td>\n",
       "      <td>276.053530</td>\n",
       "      <td>512</td>\n",
       "      <td>0</td>\n",
       "      <td>0</td>\n",
       "      <td>0</td>\n",
       "      <td>Windows</td>\n",
       "    </tr>\n",
       "    <tr>\n",
       "      <th>1272</th>\n",
       "      <td>Lenovo</td>\n",
       "      <td>Notebook</td>\n",
       "      <td>1.6</td>\n",
       "      <td>2</td>\n",
       "      <td>Intel</td>\n",
       "      <td>1.50</td>\n",
       "      <td>other intel</td>\n",
       "      <td>0</td>\n",
       "      <td>111.935204</td>\n",
       "      <td>0</td>\n",
       "      <td>0</td>\n",
       "      <td>0</td>\n",
       "      <td>64</td>\n",
       "      <td>Windows</td>\n",
       "    </tr>\n",
       "    <tr>\n",
       "      <th>1273</th>\n",
       "      <td>HP</td>\n",
       "      <td>Notebook</td>\n",
       "      <td>2.5</td>\n",
       "      <td>6</td>\n",
       "      <td>AMD</td>\n",
       "      <td>2.19</td>\n",
       "      <td>Core i7</td>\n",
       "      <td>0</td>\n",
       "      <td>100.454670</td>\n",
       "      <td>0</td>\n",
       "      <td>1000</td>\n",
       "      <td>0</td>\n",
       "      <td>0</td>\n",
       "      <td>Windows</td>\n",
       "    </tr>\n",
       "    <tr>\n",
       "      <th>1274</th>\n",
       "      <td>Asus</td>\n",
       "      <td>Notebook</td>\n",
       "      <td>1.6</td>\n",
       "      <td>4</td>\n",
       "      <td>Intel</td>\n",
       "      <td>2.20</td>\n",
       "      <td>other intel</td>\n",
       "      <td>0</td>\n",
       "      <td>100.454670</td>\n",
       "      <td>0</td>\n",
       "      <td>500</td>\n",
       "      <td>0</td>\n",
       "      <td>0</td>\n",
       "      <td>Windows</td>\n",
       "    </tr>\n",
       "  </tbody>\n",
       "</table>\n",
       "<p>1274 rows × 14 columns</p>\n",
       "</div>"
      ],
      "text/plain": [
       "     Company            TypeName  CPU_Frequency (GHz)  RAM (GB) GPU_Company  \\\n",
       "0      Apple           Ultrabook                  2.3         8       Intel   \n",
       "1      Apple           Ultrabook                  1.8         8       Intel   \n",
       "2         HP            Notebook                  2.5         8       Intel   \n",
       "3      Apple           Ultrabook                  2.7        16         AMD   \n",
       "4      Apple           Ultrabook                  3.1         8       Intel   \n",
       "...      ...                 ...                  ...       ...         ...   \n",
       "1270  Lenovo  2 in 1 Convertible                  2.5         4       Intel   \n",
       "1271  Lenovo  2 in 1 Convertible                  2.5        16       Intel   \n",
       "1272  Lenovo            Notebook                  1.6         2       Intel   \n",
       "1273      HP            Notebook                  2.5         6         AMD   \n",
       "1274    Asus            Notebook                  1.6         4       Intel   \n",
       "\n",
       "      Weight (kg)          cpu  ips_pannel         ppi  ssd   hdd  hybrid  \\\n",
       "0            1.37          AMD           1  226.983005  128     0       0   \n",
       "1            1.34          AMD           0  127.677940    0     0       0   \n",
       "2            1.86      Core i5           0  141.211998  256     0       0   \n",
       "3            1.83          AMD           1  220.534624  512     0       0   \n",
       "4            1.37          AMD           1  226.983005  256     0       0   \n",
       "...           ...          ...         ...         ...  ...   ...     ...   \n",
       "1270         1.80      Core i7           1  157.350512  128     0       0   \n",
       "1271         1.30      Core i7           1  276.053530  512     0       0   \n",
       "1272         1.50  other intel           0  111.935204    0     0       0   \n",
       "1273         2.19      Core i7           0  100.454670    0  1000       0   \n",
       "1274         2.20  other intel           0  100.454670    0   500       0   \n",
       "\n",
       "      flash_storage       os  \n",
       "0                 0    Macos  \n",
       "1               128    Macos  \n",
       "2                 0  Otheros  \n",
       "3                 0    Macos  \n",
       "4                 0    Macos  \n",
       "...             ...      ...  \n",
       "1270              0  Windows  \n",
       "1271              0  Windows  \n",
       "1272             64  Windows  \n",
       "1273              0  Windows  \n",
       "1274              0  Windows  \n",
       "\n",
       "[1274 rows x 14 columns]"
      ]
     },
     "execution_count": 367,
     "metadata": {},
     "output_type": "execute_result"
    }
   ],
   "source": [
    "X = df.drop('Price', axis=1)\n",
    "X"
   ]
  },
  {
   "cell_type": "code",
   "execution_count": 368,
   "id": "394e9724-6513-498a-ae81-580673f42340",
   "metadata": {},
   "outputs": [
    {
     "data": {
      "text/plain": [
       "0       7.200194\n",
       "1       6.801216\n",
       "2       6.354370\n",
       "3       7.838915\n",
       "4       7.497540\n",
       "          ...   \n",
       "1270    6.458338\n",
       "1271    7.312553\n",
       "1272    5.433722\n",
       "1273    6.638568\n",
       "1274    5.910797\n",
       "Name: Price, Length: 1274, dtype: float64"
      ]
     },
     "execution_count": 368,
     "metadata": {},
     "output_type": "execute_result"
    }
   ],
   "source": [
    "y = df['Price']\n",
    "y"
   ]
  },
  {
   "cell_type": "code",
   "execution_count": 369,
   "id": "4d1db31b-1cf6-454e-8a4e-f36076b8ecbf",
   "metadata": {},
   "outputs": [],
   "source": [
    "x_train,x_test,y_train,y_test = train_test_split(X,y,test_size=0.15,random_state=2)"
   ]
  },
  {
   "cell_type": "code",
   "execution_count": 370,
   "id": "884bb8fb-565d-4b27-bcc0-51554d7687a6",
   "metadata": {},
   "outputs": [],
   "source": [
    "from sklearn.compose import ColumnTransformer\n",
    "from sklearn.pipeline import Pipeline\n",
    "from sklearn.preprocessing import OneHotEncoder\n",
    "from sklearn.metrics import r2_score,mean_absolute_error"
   ]
  },
  {
   "cell_type": "code",
   "execution_count": 401,
   "id": "f14516ed-cb56-4c5d-9416-f5aa30f07db4",
   "metadata": {},
   "outputs": [],
   "source": [
    "from sklearn.linear_model import LinearRegression,Ridge,Lasso\n",
    "from sklearn.neighbors import KNeighborsRegressor\n",
    "from sklearn.tree import DecisionTreeRegressor\n",
    "from sklearn.ensemble import RandomForestRegressor,GradientBoostingRegressor,AdaBoostRegressor,ExtraTreesRegressor\n",
    "from sklearn.svm import SVR\n",
    "from xgboost import XGBRegressor\n",
    "from sklearn.ensemble import VotingRegressor,StackingRegressor"
   ]
  },
  {
   "cell_type": "code",
   "execution_count": 377,
   "id": "ec44f192-d528-4515-89fb-7a929ce040c9",
   "metadata": {},
   "outputs": [
    {
     "data": {
      "text/html": [
       "<div>\n",
       "<style scoped>\n",
       "    .dataframe tbody tr th:only-of-type {\n",
       "        vertical-align: middle;\n",
       "    }\n",
       "\n",
       "    .dataframe tbody tr th {\n",
       "        vertical-align: top;\n",
       "    }\n",
       "\n",
       "    .dataframe thead th {\n",
       "        text-align: right;\n",
       "    }\n",
       "</style>\n",
       "<table border=\"1\" class=\"dataframe\">\n",
       "  <thead>\n",
       "    <tr style=\"text-align: right;\">\n",
       "      <th></th>\n",
       "      <th>Company</th>\n",
       "      <th>TypeName</th>\n",
       "      <th>CPU_Frequency (GHz)</th>\n",
       "      <th>RAM (GB)</th>\n",
       "      <th>GPU_Company</th>\n",
       "      <th>Weight (kg)</th>\n",
       "      <th>cpu</th>\n",
       "      <th>ips_pannel</th>\n",
       "      <th>ppi</th>\n",
       "      <th>ssd</th>\n",
       "      <th>hdd</th>\n",
       "      <th>hybrid</th>\n",
       "      <th>flash_storage</th>\n",
       "      <th>os</th>\n",
       "    </tr>\n",
       "  </thead>\n",
       "  <tbody>\n",
       "    <tr>\n",
       "      <th>688</th>\n",
       "      <td>HP</td>\n",
       "      <td>Notebook</td>\n",
       "      <td>2.4</td>\n",
       "      <td>6</td>\n",
       "      <td>AMD</td>\n",
       "      <td>2.65</td>\n",
       "      <td>AMD</td>\n",
       "      <td>1</td>\n",
       "      <td>127.335675</td>\n",
       "      <td>0</td>\n",
       "      <td>2000</td>\n",
       "      <td>0</td>\n",
       "      <td>0</td>\n",
       "      <td>Windows</td>\n",
       "    </tr>\n",
       "  </tbody>\n",
       "</table>\n",
       "</div>"
      ],
      "text/plain": [
       "    Company  TypeName  CPU_Frequency (GHz)  RAM (GB) GPU_Company  Weight (kg)  \\\n",
       "688      HP  Notebook                  2.4         6         AMD         2.65   \n",
       "\n",
       "     cpu  ips_pannel         ppi  ssd   hdd  hybrid  flash_storage       os  \n",
       "688  AMD           1  127.335675    0  2000       0              0  Windows  "
      ]
     },
     "execution_count": 377,
     "metadata": {},
     "output_type": "execute_result"
    }
   ],
   "source": [
    "x_train.sample(1)"
   ]
  },
  {
   "cell_type": "markdown",
   "id": "3ca5fb3a-2eb0-4df1-a383-6646a8559718",
   "metadata": {},
   "source": [
    "### Linear regression"
   ]
  },
  {
   "cell_type": "code",
   "execution_count": 380,
   "id": "7cb5072a-461c-41cf-8305-94b0cbc45833",
   "metadata": {},
   "outputs": [
    {
     "name": "stdout",
     "output_type": "stream",
     "text": [
      "R2 score 0.8012915049719165\n",
      "MAE 0.20871282285527493\n"
     ]
    }
   ],
   "source": [
    "step1 = ColumnTransformer(transformers=[\n",
    "    ('col_tnf',OneHotEncoder(sparse_output=False,drop='first'),[0,1,4,6,13])\n",
    "],remainder='passthrough')\n",
    "\n",
    "step2 = LinearRegression()\n",
    "\n",
    "pipe = Pipeline([\n",
    "    ('step1',step1),\n",
    "    ('step2',step2)\n",
    "])\n",
    "\n",
    "pipe.fit(x_train,y_train)\n",
    "\n",
    "y_pred = pipe.predict(x_test)\n",
    "\n",
    "print('R2 score',r2_score(y_test,y_pred))\n",
    "print('MAE',mean_absolute_error(y_test,y_pred))"
   ]
  },
  {
   "cell_type": "markdown",
   "id": "255fc78c-a1be-42d7-a032-1174239da46f",
   "metadata": {
    "jp-MarkdownHeadingCollapsed": true
   },
   "source": [
    "### Ridge"
   ]
  },
  {
   "cell_type": "code",
   "execution_count": 384,
   "id": "03bb3ebe-770d-4cc2-8e9d-c69f5cb48543",
   "metadata": {},
   "outputs": [
    {
     "name": "stdout",
     "output_type": "stream",
     "text": [
      "R2 Score 0.8007793655100556\n",
      "MAE: 0.2101251553259427\n"
     ]
    }
   ],
   "source": [
    "step1 = ColumnTransformer(transformers=[\n",
    "    ('trf1',OneHotEncoder(sparse_output=False,drop='first'),[0,1,4,6,13])\n",
    "],remainder='passthrough')\n",
    "\n",
    "step2 = Ridge(alpha=10)\n",
    "\n",
    "pipe = Pipeline([\n",
    "    ('step1',step1),\n",
    "    ('step2',step2)\n",
    "])\n",
    "\n",
    "pipe.fit(x_train,y_train)\n",
    "y_pred = pipe.predict(x_test)\n",
    "\n",
    "print('R2 Score',r2_score(y_test,y_pred))\n",
    "print('MAE:',mean_absolute_error(y_test,y_pred))"
   ]
  },
  {
   "cell_type": "markdown",
   "id": "1a0b6b94-7c09-4e51-83df-3932a1e7eaff",
   "metadata": {
    "jp-MarkdownHeadingCollapsed": true
   },
   "source": [
    "### Lasso"
   ]
  },
  {
   "cell_type": "code",
   "execution_count": 388,
   "id": "ec468912-22dd-4c74-9a63-e212af45362a",
   "metadata": {},
   "outputs": [
    {
     "name": "stdout",
     "output_type": "stream",
     "text": [
      "R2 Score 0.7979433870048743\n",
      "MAE: 0.20858519737235467\n"
     ]
    }
   ],
   "source": [
    "step1 = ColumnTransformer(transformers=[\n",
    "    ('trf1',OneHotEncoder(sparse_output=False,drop='first'),[0,1,4,6,13])\n",
    "],remainder='passthrough')\n",
    "\n",
    "step2 = Lasso(alpha=0.001)\n",
    "\n",
    "pipe = Pipeline([\n",
    "    ('step1',step1),\n",
    "    ('step2',step2)\n",
    "])\n",
    "\n",
    "pipe.fit(x_train,y_train)\n",
    "y_pred = pipe.predict(x_test)\n",
    "\n",
    "print('R2 Score',r2_score(y_test,y_pred))\n",
    "print('MAE:',mean_absolute_error(y_test,y_pred))"
   ]
  },
  {
   "cell_type": "markdown",
   "id": "ec1223d7-25bd-4eed-929a-3785ec752213",
   "metadata": {
    "jp-MarkdownHeadingCollapsed": true
   },
   "source": [
    "### KNN"
   ]
  },
  {
   "cell_type": "code",
   "execution_count": 389,
   "id": "bc0dfd67-3c21-46a0-b39a-7e8b981e1071",
   "metadata": {},
   "outputs": [
    {
     "name": "stdout",
     "output_type": "stream",
     "text": [
      "R2 Score 0.7946558731205192\n",
      "MAE: 0.19309220673282124\n"
     ]
    }
   ],
   "source": [
    "step1 = ColumnTransformer(transformers=[\n",
    "    ('trf1',OneHotEncoder(sparse_output=False,drop='first'),[0,1,4,6,13])\n",
    "],remainder='passthrough')\n",
    "\n",
    "step2 = KNeighborsRegressor(n_neighbors=3)\n",
    "\n",
    "pipe = Pipeline([\n",
    "    ('step1',step1),\n",
    "    ('step2',step2)\n",
    "])\n",
    "\n",
    "pipe.fit(x_train,y_train)\n",
    "y_pred = pipe.predict(x_test)\n",
    "\n",
    "print('R2 Score',r2_score(y_test,y_pred))\n",
    "print('MAE:',mean_absolute_error(y_test,y_pred))"
   ]
  },
  {
   "cell_type": "markdown",
   "id": "9f6b717d-19c2-4a9e-bd5e-c9d71a2ac05b",
   "metadata": {
    "jp-MarkdownHeadingCollapsed": true
   },
   "source": [
    "### DT"
   ]
  },
  {
   "cell_type": "code",
   "execution_count": 395,
   "id": "e18bbf08-9e14-41c5-a016-c31ffe52727c",
   "metadata": {},
   "outputs": [
    {
     "name": "stdout",
     "output_type": "stream",
     "text": [
      "R2 Score 0.8254498826774515\n",
      "MAE: 0.18954771910684584\n"
     ]
    }
   ],
   "source": [
    "step1 = ColumnTransformer(transformers=[\n",
    "    ('trf1',OneHotEncoder(sparse_output=False,drop='first'),[0,1,4,6,13])\n",
    "],remainder='passthrough')\n",
    "\n",
    "step2 = DecisionTreeRegressor(max_depth=12)\n",
    "\n",
    "pipe = Pipeline([\n",
    "    ('step1',step1),\n",
    "    ('step2',step2)\n",
    "])\n",
    "\n",
    "pipe.fit(x_train,y_train)\n",
    "y_pred = pipe.predict(x_test)\n",
    "\n",
    "print('R2 Score',r2_score(y_test,y_pred))\n",
    "print('MAE:',mean_absolute_error(y_test,y_pred))"
   ]
  },
  {
   "cell_type": "markdown",
   "id": "e645bc4e-43af-4c09-b34e-a0560af43066",
   "metadata": {
    "jp-MarkdownHeadingCollapsed": true
   },
   "source": [
    "### SVM"
   ]
  },
  {
   "cell_type": "code",
   "execution_count": 396,
   "id": "dc0a5884-cc9e-4f31-8350-6ab071fc4478",
   "metadata": {},
   "outputs": [
    {
     "name": "stdout",
     "output_type": "stream",
     "text": [
      "R2 Score 0.8195067379935703\n",
      "MAE: 0.19543289117295715\n"
     ]
    }
   ],
   "source": [
    "step1 = ColumnTransformer(transformers=[\n",
    "    ('trf1',OneHotEncoder(sparse_output=False,drop='first'),[0,1,4,6,13])\n",
    "],remainder='passthrough')\n",
    "\n",
    "step2 = SVR(kernel='rbf',C=10000,epsilon=0.1)\n",
    "\n",
    "pipe = Pipeline([\n",
    "    ('step1',step1),\n",
    "    ('step2',step2)\n",
    "])\n",
    "\n",
    "pipe.fit(x_train,y_train)\n",
    "y_pred = pipe.predict(x_test)\n",
    "\n",
    "print('R2 Score',r2_score(y_test,y_pred))\n",
    "print('MAE:',mean_absolute_error(y_test,y_pred))"
   ]
  },
  {
   "cell_type": "markdown",
   "id": "37ddcaec-bc6a-4b6a-b2a6-f546105ab362",
   "metadata": {},
   "source": [
    "### Random Forest"
   ]
  },
  {
   "cell_type": "code",
   "execution_count": 426,
   "id": "3296a96a-12c7-461c-82ac-fc6cb9d5ae3e",
   "metadata": {},
   "outputs": [
    {
     "name": "stdout",
     "output_type": "stream",
     "text": [
      "R2 Score 0.8807959915475343\n",
      "MAE: 0.16053393099291743\n"
     ]
    }
   ],
   "source": [
    "step1 = ColumnTransformer(transformers=[\n",
    "    ('trf1',OneHotEncoder(sparse_output=False,drop='first'),[0,1,4,6,13])\n",
    "],remainder='passthrough')\n",
    "\n",
    "step2 = RandomForestRegressor(n_estimators=150,\n",
    "                              random_state=4,\n",
    "                              max_samples=0.9,\n",
    "                              max_features=0.9,\n",
    "                              max_depth=15)\n",
    "\n",
    "pipe_rf = Pipeline([\n",
    "    ('step1',step1),\n",
    "    ('step2',step2)\n",
    "])\n",
    "\n",
    "pipe_rf.fit(x_train,y_train)\n",
    "y_pred = pipe_rf.predict(x_test)\n",
    "\n",
    "print('R2 Score',r2_score(y_test,y_pred))\n",
    "print('MAE:',mean_absolute_error(y_test,y_pred))"
   ]
  },
  {
   "cell_type": "markdown",
   "id": "36719bee-7ebc-4abc-b8fd-7ad907461247",
   "metadata": {
    "jp-MarkdownHeadingCollapsed": true
   },
   "source": [
    "### Extra Trees"
   ]
  },
  {
   "cell_type": "code",
   "execution_count": 399,
   "id": "370c2584-90bd-487d-a754-59bd37dc5745",
   "metadata": {},
   "outputs": [
    {
     "name": "stdout",
     "output_type": "stream",
     "text": [
      "R2 Score 0.877752840660447\n",
      "MAE: 0.16275587953632722\n"
     ]
    }
   ],
   "source": [
    "step1 = ColumnTransformer(transformers=[\n",
    "    ('trf1',OneHotEncoder(sparse_output=False,drop='first'),[0,1,4,6,13])\n",
    "],remainder='passthrough')\n",
    "\n",
    "step2 = ExtraTreesRegressor(n_estimators=100,\n",
    "                              random_state=3,\n",
    "                              max_samples=0.5,\n",
    "                              max_features=0.75,\n",
    "                              max_depth=15,\n",
    "                            bootstrap=True)\n",
    "\n",
    "pipe = Pipeline([\n",
    "    ('step1',step1),\n",
    "    ('step2',step2)\n",
    "])\n",
    "\n",
    "pipe.fit(x_train,y_train)\n",
    "y_pred = pipe.predict(x_test)\n",
    "\n",
    "print('R2 Score',r2_score(y_test,y_pred))\n",
    "print('MAE:',mean_absolute_error(y_test,y_pred))"
   ]
  },
  {
   "cell_type": "markdown",
   "id": "3a7187da-1c7e-4a6c-9ccb-6d3cd5881401",
   "metadata": {},
   "source": [
    "### Voting Regressor"
   ]
  },
  {
   "cell_type": "code",
   "execution_count": 424,
   "id": "ef51372b-7b43-46cf-bbb6-6bfb6a296854",
   "metadata": {},
   "outputs": [
    {
     "name": "stdout",
     "output_type": "stream",
     "text": [
      "R2 Score 0.8837086115326604\n",
      "MAE: 0.1592470174180625\n"
     ]
    }
   ],
   "source": [
    "step1 = ColumnTransformer(transformers=[\n",
    "    ('trf1',OneHotEncoder(sparse_output=False,drop='first'),[0,1,4,6,13])\n",
    "],remainder='passthrough')\n",
    "\n",
    "rf = RandomForestRegressor(n_estimators=150,random_state=4,max_samples=0.9,max_features=0.9,max_depth=15)\n",
    "gbdt = GradientBoostingRegressor(n_estimators=100,max_features=0.5)\n",
    "xgb = XGBRegressor(n_estimators=25,learning_rate=0.3,max_depth=5)\n",
    "et = ExtraTreesRegressor(n_estimators=100,random_state=3,max_samples=0.5,max_features=0.75,max_depth=10,bootstrap=True)\n",
    "\n",
    "step2 = VotingRegressor([('rf', rf), ('gbdt', gbdt), ('xgb',xgb), ('et',et)],weights=[5,1,1,1])\n",
    "\n",
    "pipe = Pipeline([\n",
    "    ('step1',step1),\n",
    "    ('step2',step2)\n",
    "])\n",
    "\n",
    "pipe.fit(x_train,y_train)\n",
    "y_pred = pipe.predict(x_test)\n",
    "\n",
    "print('R2 Score',r2_score(y_test,y_pred))\n",
    "print('MAE:',mean_absolute_error(y_test,y_pred))"
   ]
  },
  {
   "cell_type": "markdown",
   "id": "6b242009-b936-467f-9cf8-2023a183468d",
   "metadata": {},
   "source": [
    "### Stacking"
   ]
  },
  {
   "cell_type": "code",
   "execution_count": 404,
   "id": "c47ad255-4d51-44e8-9e49-53b1917afe54",
   "metadata": {},
   "outputs": [
    {
     "name": "stdout",
     "output_type": "stream",
     "text": [
      "R2 Score 0.8758928813709963\n",
      "MAE: 0.1636832987613065\n"
     ]
    }
   ],
   "source": [
    "step1 = ColumnTransformer(transformers=[\n",
    "    ('trf1',OneHotEncoder(sparse_output=False,drop='first'),[0,1,4,6,13])\n",
    "],remainder='passthrough')\n",
    "\n",
    "estimators = [\n",
    "    ('rf', RandomForestRegressor(n_estimators=350,random_state=3,max_samples=0.5,max_features=0.75,max_depth=15)),\n",
    "    ('gbdt',GradientBoostingRegressor(n_estimators=100,max_features=0.5)),\n",
    "    ('xgb', XGBRegressor(n_estimators=25,learning_rate=0.3,max_depth=5))\n",
    "]\n",
    "\n",
    "step2 = StackingRegressor(estimators=estimators, final_estimator=Ridge(alpha=100))\n",
    "\n",
    "pipe = Pipeline([\n",
    "    ('step1',step1),\n",
    "    ('step2',step2)\n",
    "])\n",
    "\n",
    "pipe.fit(x_train,y_train)\n",
    "y_pred = pipe.predict(x_test)\n",
    "\n",
    "print('R2 Score',r2_score(y_test,y_pred))\n",
    "print('MAE:',mean_absolute_error(y_test,y_pred))"
   ]
  },
  {
   "cell_type": "markdown",
   "id": "717a7179-6639-46f9-ac6a-fa187f989ca2",
   "metadata": {},
   "source": [
    "### Pickle"
   ]
  },
  {
   "cell_type": "code",
   "execution_count": 427,
   "id": "f1a79eed-2985-4440-9819-19b89c7ffd5b",
   "metadata": {},
   "outputs": [],
   "source": [
    "import pickle"
   ]
  },
  {
   "cell_type": "code",
   "execution_count": 428,
   "id": "94f633e9-125c-4c30-a996-88d5cc33ed9d",
   "metadata": {},
   "outputs": [],
   "source": [
    "pickle.dump(df,open('df.pkl','wb'))"
   ]
  },
  {
   "cell_type": "code",
   "execution_count": 429,
   "id": "7e05eee4-a8a3-40ce-bf01-7966e74d9659",
   "metadata": {},
   "outputs": [],
   "source": [
    "pickle.dump(pipe_rf,open('pipe.pkl','wb'))"
   ]
  },
  {
   "cell_type": "code",
   "execution_count": null,
   "id": "78b08ed8-8ce1-445f-8be9-d31b5ed5961f",
   "metadata": {},
   "outputs": [],
   "source": []
  }
 ],
 "metadata": {
  "kernelspec": {
   "display_name": "Python 3 (ipykernel)",
   "language": "python",
   "name": "python3"
  },
  "language_info": {
   "codemirror_mode": {
    "name": "ipython",
    "version": 3
   },
   "file_extension": ".py",
   "mimetype": "text/x-python",
   "name": "python",
   "nbconvert_exporter": "python",
   "pygments_lexer": "ipython3",
   "version": "3.11.5"
  }
 },
 "nbformat": 4,
 "nbformat_minor": 5
}
